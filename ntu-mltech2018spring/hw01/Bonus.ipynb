{
 "cells": [
  {
   "cell_type": "markdown",
   "metadata": {},
   "source": [
    "## Bonus: Constant Feature for Support Vector Machine\n",
    "**17.** (Bonus, 20 points) In the derivation of the Gaussian kernel, we see that the first feature component in $\\phi(x)$ is actually a constant 1; in the derivation of the polynomial kernel, we also see that the first feature component is a constant. \n",
    "\n",
    "Prove or disprove that after solving the SVM, if we calculate the optimal weight value $w_{i}$ that corresponds to the constant feature component $z_{i}$, we would get $w_{i} = 0$."
   ]
  },
  {
   "cell_type": "markdown",
   "metadata": {},
   "source": [
    "**Solution:**\n",
    "In $Z$ space, $w^{*} = \\sum \\limits_{i} \\alpha_{i} y_{i} z_{i}$. If $z_{i, 0} = constant$, we can get $w_{i, 0} = 0$, because $\\sum \\limits_{i}\\alpha_{i}y_{i} = 0$"
   ]
  },
  {
   "cell_type": "markdown",
   "metadata": {},
   "source": [
    "## Bonus: Dual of Regularized Linear Regression\n",
    "**18.** Consider the regularized linear regression problem for some $C > 0$:\n",
    "$$\n",
    "\\begin{align}\n",
    "\\min \\limits_{w} \\ & \\frac{1}{N} \\sum \\limits_{n=1}^{N}(y_{n}-w^{T}x_{n})^{2} \\\\\n",
    "s.t. \\ &w^{T}w \\leq C\n",
    "\\end{align}\n",
    "$$\n",
    "Derive its simplified Lagrange dual problem that only involves one variable $\\lambda$, which is the Lagrange multiplier associated with $w^{T} w \\leq C$."
   ]
  },
  {
   "cell_type": "markdown",
   "metadata": {},
   "source": [
    "**Solution:**\n"
   ]
  }
 ],
 "metadata": {
  "kernelspec": {
   "display_name": "Python 3",
   "language": "python",
   "name": "python3"
  },
  "language_info": {
   "codemirror_mode": {
    "name": "ipython",
    "version": 3
   },
   "file_extension": ".py",
   "mimetype": "text/x-python",
   "name": "python",
   "nbconvert_exporter": "python",
   "pygments_lexer": "ipython3",
   "version": "3.6.1"
  }
 },
 "nbformat": 4,
 "nbformat_minor": 2
}
