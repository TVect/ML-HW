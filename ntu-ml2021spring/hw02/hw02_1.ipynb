{
 "cells": [
  {
   "cell_type": "markdown",
   "metadata": {
    "id": "OYlaRwNu7ojq"
   },
   "source": [
    "# **Homework 2-1 Phoneme Classification**\n",
    "\n",
    "* Slides: https://speech.ee.ntu.edu.tw/~hylee/ml/ml2021-course-data/hw/HW02/HW02.pdf\n",
    "* Video (Chinese): https://youtu.be/PdjXnQbu2zo\n",
    "* Video (English): https://youtu.be/ESRr-VCykBs\n"
   ]
  },
  {
   "cell_type": "markdown",
   "metadata": {
    "id": "emUd7uS7crTz"
   },
   "source": [
    "## The DARPA TIMIT Acoustic-Phonetic Continuous Speech Corpus (TIMIT)\n",
    "The TIMIT corpus of reading speech has been designed to provide speech data for the acquisition of acoustic-phonetic knowledge and for the development and evaluation of automatic speech recognition systems.\n",
    "\n",
    "This homework is a multiclass classification task, \n",
    "we are going to train a deep neural network classifier to predict the phonemes for each frame from the speech corpus TIMIT.\n",
    "\n",
    "link: https://academictorrents.com/details/34e2b78745138186976cbc27939b1b34d18bd5b3"
   ]
  },
  {
   "cell_type": "markdown",
   "metadata": {
    "id": "KVUGfWTo7_Oj"
   },
   "source": [
    "## Download Data\n",
    "Download data from google drive, then unzip it.\n",
    "\n",
    "You should have `timit_11/train_11.npy`, `timit_11/train_label_11.npy`, and `timit_11/test_11.npy` after running this block.<br><br>\n",
    "`timit_11/`\n",
    "- `train_11.npy`: training data<br>\n",
    "- `train_label_11.npy`: training label<br>\n",
    "- `test_11.npy`:  testing data<br><br>\n",
    "\n",
    "**notes: if the google drive link is dead, you can download the data directly from Kaggle and upload it to the workspace**\n",
    "\n",
    "\n"
   ]
  },
  {
   "cell_type": "code",
   "execution_count": 2,
   "metadata": {
    "colab": {
     "base_uri": "https://localhost:8080/"
    },
    "id": "OzkiMEcC3Foq",
    "outputId": "89e865ff-c1df-490d-ab51-cfda0a2fde38"
   },
   "outputs": [
    {
     "name": "stdout",
     "output_type": "stream",
     "text": [
      "Downloading...\n",
      "From: https://drive.google.com/uc?id=1HPkcmQmFGu-3OknddKIa5dNDsR05lIQR\n",
      "To: /content/data.zip\n",
      "372MB [00:02, 134MB/s]\n",
      "Archive:  data.zip\n",
      "   creating: timit_11/\n",
      "  inflating: timit_11/train_11.npy   \n",
      "  inflating: timit_11/test_11.npy    \n",
      "  inflating: timit_11/train_label_11.npy  \n",
      "data.zip  sample_data  timit_11\n"
     ]
    }
   ],
   "source": [
    "'''\n",
    "!gdown --id '1HPkcmQmFGu-3OknddKIa5dNDsR05lIQR' --output data.zip\n",
    "!unzip data.zip\n",
    "!ls \n",
    "'''"
   ]
  },
  {
   "cell_type": "markdown",
   "metadata": {
    "id": "_L_4anls8Drv"
   },
   "source": [
    "## Preparing Data\n",
    "Load the training and testing data from the `.npy` file (NumPy array)."
   ]
  },
  {
   "cell_type": "code",
   "execution_count": 1,
   "metadata": {
    "colab": {
     "base_uri": "https://localhost:8080/"
    },
    "id": "IJjLT8em-y9G",
    "outputId": "cddd6694-4eb7-4f01-c2da-074b224ce49f"
   },
   "outputs": [
    {
     "name": "stdout",
     "output_type": "stream",
     "text": [
      "Loading data ...\n",
      "Size of training data: (1229932, 429)\n",
      "Size of testing data: (451552, 429)\n"
     ]
    }
   ],
   "source": [
    "import numpy as np\n",
    "\n",
    "print('Loading data ...')\n",
    "\n",
    "data_root='./timit_11/'\n",
    "train = np.load(data_root + 'train_11.npy')\n",
    "train_label = np.load(data_root + 'train_label_11.npy')\n",
    "test = np.load(data_root + 'test_11.npy')\n",
    "\n",
    "print('Size of training data: {}'.format(train.shape))\n",
    "print('Size of testing data: {}'.format(test.shape))"
   ]
  },
  {
   "cell_type": "markdown",
   "metadata": {
    "id": "us5XW_x6udZQ"
   },
   "source": [
    "## Create Dataset"
   ]
  },
  {
   "cell_type": "code",
   "execution_count": 2,
   "metadata": {
    "id": "Fjf5EcmJtf4e"
   },
   "outputs": [],
   "source": [
    "import torch\n",
    "from torch.utils.data import Dataset\n",
    "\n",
    "class TIMITDataset(Dataset):\n",
    "    def __init__(self, X, y=None):\n",
    "        self.data = torch.from_numpy(X).float()\n",
    "        if y is not None:\n",
    "            y = y.astype(np.int)\n",
    "            self.label = torch.LongTensor(y)\n",
    "        else:\n",
    "            self.label = None\n",
    "\n",
    "    def __getitem__(self, idx):\n",
    "        if self.label is not None:\n",
    "            return self.data[idx], self.label[idx]\n",
    "        else:\n",
    "            return self.data[idx]\n",
    "\n",
    "    def __len__(self):\n",
    "        return len(self.data)\n"
   ]
  },
  {
   "cell_type": "markdown",
   "metadata": {
    "id": "otIC6WhGeh9v"
   },
   "source": [
    "Split the labeled data into a training set and a validation set, you can modify the variable `VAL_RATIO` to change the ratio of validation data."
   ]
  },
  {
   "cell_type": "code",
   "execution_count": 3,
   "metadata": {
    "colab": {
     "base_uri": "https://localhost:8080/",
     "height": 236
    },
    "id": "sYqi_lAuvC59",
    "outputId": "12254600-468d-489b-ecf6-ce58f1db6d9f"
   },
   "outputs": [
    {
     "name": "stdout",
     "output_type": "stream",
     "text": [
      "Size of training set: (1205333, 429)\n",
      "Size of validation set: (24599, 429)\n"
     ]
    }
   ],
   "source": [
    "VAL_RATIO = 0.2\n",
    "VAL_RATIO = 0.02\n",
    "\n",
    "percent = int(train.shape[0] * (1 - VAL_RATIO))\n",
    "train_x, train_y, val_x, val_y = train[:percent], train_label[:percent], train[percent:], train_label[percent:]\n",
    "print('Size of training set: {}'.format(train_x.shape))\n",
    "print('Size of validation set: {}'.format(val_x.shape))"
   ]
  },
  {
   "cell_type": "markdown",
   "metadata": {
    "id": "nbCfclUIgMTX"
   },
   "source": [
    "Create a data loader from the dataset, feel free to tweak the variable `BATCH_SIZE` here."
   ]
  },
  {
   "cell_type": "code",
   "execution_count": 4,
   "metadata": {
    "id": "RUCbQvqJurYc"
   },
   "outputs": [],
   "source": [
    "BATCH_SIZE = 64 * 4\n",
    "BATCH_SIZE = 4096\n",
    "\n",
    "from torch.utils.data import DataLoader\n",
    "\n",
    "train_set = TIMITDataset(train_x, train_y)\n",
    "val_set = TIMITDataset(val_x, val_y)\n",
    "train_loader = DataLoader(train_set, batch_size=BATCH_SIZE, shuffle=True) #only shuffle the training data\n",
    "val_loader = DataLoader(val_set, batch_size=BATCH_SIZE, shuffle=False)"
   ]
  },
  {
   "cell_type": "markdown",
   "metadata": {
    "id": "_SY7X0lUgb50"
   },
   "source": [
    "Cleanup the unneeded variables to save memory.<br>\n",
    "\n",
    "**notes: if you need to use these variables later, then you may remove this block or clean up unneeded variables later<br>the data size is quite huge, so be aware of memory usage in colab**"
   ]
  },
  {
   "cell_type": "code",
   "execution_count": 5,
   "metadata": {
    "colab": {
     "base_uri": "https://localhost:8080/"
    },
    "id": "y8rzkGraeYeN",
    "outputId": "46ea1737-0ddd-41b1-a041-b18edce2651a"
   },
   "outputs": [
    {
     "data": {
      "text/plain": [
       "0"
      ]
     },
     "execution_count": 5,
     "metadata": {},
     "output_type": "execute_result"
    }
   ],
   "source": [
    "import gc\n",
    "\n",
    "del train, train_label, train_x, train_y, val_x, val_y\n",
    "gc.collect()"
   ]
  },
  {
   "cell_type": "markdown",
   "metadata": {
    "id": "IRqKNvNZwe3V"
   },
   "source": [
    "## Create Model"
   ]
  },
  {
   "cell_type": "markdown",
   "metadata": {
    "id": "FYr1ng5fh9pA"
   },
   "source": [
    "Define model architecture, you are encouraged to change and experiment with the model architecture."
   ]
  },
  {
   "cell_type": "code",
   "execution_count": 6,
   "metadata": {
    "id": "lbZrwT6Ny0XL"
   },
   "outputs": [],
   "source": [
    "import torch\n",
    "import torch.nn as nn\n",
    "\n",
    "class Classifier(nn.Module):\n",
    "    def __init__(self):\n",
    "        super(Classifier, self).__init__()\n",
    "        self.layer1 = nn.Linear(429, 2048)\n",
    "        self.layer2 = nn.Linear(2048, 2048)\n",
    "        self.layer3 = nn.Linear(2048, 2048)\n",
    "        self.layer4 = nn.Linear(2048, 1024)\n",
    "        self.layer5 = nn.Linear(1024, 512)\n",
    "        self.layer6 = nn.Linear(512, 128)\n",
    "        self.out = nn.Linear(128, 39) \n",
    "        self.dp = nn.Dropout(0.5)\n",
    "        self.bn1 = nn.BatchNorm1d(2048)\n",
    "        self.bn2 = nn.BatchNorm1d(2048)\n",
    "        self.bn3 = nn.BatchNorm1d(2048)\n",
    "        self.bn4 = nn.BatchNorm1d(1024)\n",
    "        self.bn5 = nn.BatchNorm1d(512)\n",
    "        self.bn6 = nn.BatchNorm1d(128)\n",
    "\n",
    "\n",
    "        self.act_fn = nn.ReLU()\n",
    "\n",
    "    def forward(self, x):\n",
    "        x = self.layer1(x)\n",
    "        x = self.act_fn(x)\n",
    "        x = self.bn1(x)\n",
    "        x = self.dp(x)\n",
    "\n",
    "        x = self.layer2(x)\n",
    "        x = self.act_fn(x)\n",
    "        x = self.bn2(x)\n",
    "        x = self.dp(x)\n",
    "\n",
    "        x = self.layer3(x)\n",
    "        x = self.act_fn(x)\n",
    "        x = self.bn3(x)\n",
    "        x = self.dp(x)\n",
    "\n",
    "        x = self.layer4(x)\n",
    "        x = self.act_fn(x)\n",
    "        x = self.bn4(x)\n",
    "        x = self.dp(x)\n",
    "\n",
    "        x = self.layer5(x)\n",
    "        x = self.act_fn(x)\n",
    "        x = self.bn5(x)\n",
    "        x = self.dp(x)\n",
    "\n",
    "        x = self.layer6(x)\n",
    "        x = self.act_fn(x)\n",
    "        x = self.bn6(x)\n",
    "        x = self.dp(x)\n",
    "\n",
    "        x = self.out(x)\n",
    "        \n",
    "        return x\n",
    "\n",
    "# test_model = Classifier()\n",
    "# test_model(torch.Tensor(np.random.randn(32, 39 * 11))).shape"
   ]
  },
  {
   "cell_type": "markdown",
   "metadata": {
    "id": "VRYciXZvPbYh"
   },
   "source": [
    "## Training"
   ]
  },
  {
   "cell_type": "code",
   "execution_count": 7,
   "metadata": {
    "id": "y114Vmm3Ja6o"
   },
   "outputs": [],
   "source": [
    "#check device\n",
    "def get_device():\n",
    "    return 'cuda' if torch.cuda.is_available() else 'cpu'"
   ]
  },
  {
   "cell_type": "markdown",
   "metadata": {
    "id": "sEX-yjHjhGuH"
   },
   "source": [
    "Fix random seeds for reproducibility."
   ]
  },
  {
   "cell_type": "code",
   "execution_count": 8,
   "metadata": {
    "id": "88xPiUnm0tAd"
   },
   "outputs": [],
   "source": [
    "# fix random seed\n",
    "def same_seeds(seed):\n",
    "    torch.manual_seed(seed)\n",
    "    if torch.cuda.is_available():\n",
    "        torch.cuda.manual_seed(seed)\n",
    "        torch.cuda.manual_seed_all(seed)  \n",
    "    np.random.seed(seed)  \n",
    "    torch.backends.cudnn.benchmark = False\n",
    "    torch.backends.cudnn.deterministic = True"
   ]
  },
  {
   "cell_type": "markdown",
   "metadata": {
    "id": "KbBcBXkSp6RA"
   },
   "source": [
    "Feel free to change the training parameters here."
   ]
  },
  {
   "cell_type": "code",
   "execution_count": 9,
   "metadata": {
    "colab": {
     "base_uri": "https://localhost:8080/"
    },
    "id": "QTp3ZXg1yO9Y",
    "outputId": "2b348085-1718-405e-cdbc-f655f978b0a6"
   },
   "outputs": [
    {
     "name": "stdout",
     "output_type": "stream",
     "text": [
      "DEVICE: cuda\n",
      "Classifier(\n",
      "  (layer1): Linear(in_features=429, out_features=2048, bias=True)\n",
      "  (layer2): Linear(in_features=2048, out_features=2048, bias=True)\n",
      "  (layer3): Linear(in_features=2048, out_features=2048, bias=True)\n",
      "  (layer4): Linear(in_features=2048, out_features=1024, bias=True)\n",
      "  (layer5): Linear(in_features=1024, out_features=512, bias=True)\n",
      "  (layer6): Linear(in_features=512, out_features=128, bias=True)\n",
      "  (out): Linear(in_features=128, out_features=39, bias=True)\n",
      "  (dp): Dropout(p=0.5, inplace=False)\n",
      "  (bn1): BatchNorm1d(2048, eps=1e-05, momentum=0.1, affine=True, track_running_stats=True)\n",
      "  (bn2): BatchNorm1d(2048, eps=1e-05, momentum=0.1, affine=True, track_running_stats=True)\n",
      "  (bn3): BatchNorm1d(2048, eps=1e-05, momentum=0.1, affine=True, track_running_stats=True)\n",
      "  (bn4): BatchNorm1d(1024, eps=1e-05, momentum=0.1, affine=True, track_running_stats=True)\n",
      "  (bn5): BatchNorm1d(512, eps=1e-05, momentum=0.1, affine=True, track_running_stats=True)\n",
      "  (bn6): BatchNorm1d(128, eps=1e-05, momentum=0.1, affine=True, track_running_stats=True)\n",
      "  (act_fn): ReLU()\n",
      ")\n"
     ]
    }
   ],
   "source": [
    "# fix random seed for reproducibility\n",
    "same_seeds(0)\n",
    "\n",
    "# get device \n",
    "device = get_device()\n",
    "print(f'DEVICE: {device}')\n",
    "\n",
    "# training parameters\n",
    "num_epoch = 300               # number of training epoch\n",
    "# learning_rate = 0.0001       # learning rate\n",
    "learning_rate = 0.0001\n",
    "weight_decay = 0.001\n",
    "\n",
    "# the path where checkpoint saved\n",
    "model_path = './model.ckpt'\n",
    "\n",
    "# create model, define a loss function, and optimizer\n",
    "model = Classifier().to(device)\n",
    "criterion = nn.CrossEntropyLoss() \n",
    "optimizer = torch.optim.Adam(model.parameters(), lr=learning_rate, weight_decay=weight_decay)\n",
    "\n",
    "\n",
    "# from torchsummary import summary\n",
    "# summary(model)\n",
    "print(model)"
   ]
  },
  {
   "cell_type": "code",
   "execution_count": 10,
   "metadata": {
    "colab": {
     "base_uri": "https://localhost:8080/"
    },
    "id": "CdMWsBs7zzNs",
    "outputId": "5edc7b62-be6d-4c50-98f9-ce9fa1f923c3"
   },
   "outputs": [
    {
     "name": "stderr",
     "output_type": "stream",
     "text": [
      "295it [00:27, 10.75it/s]\n",
      "0it [00:00, ?it/s]"
     ]
    },
    {
     "name": "stdout",
     "output_type": "stream",
     "text": [
      "[001/300] Train Acc: 0.355351 Loss: 2.443028 | Val Acc: 0.520306 loss: 1.554708\n",
      "saving model with acc 0.520\n"
     ]
    },
    {
     "name": "stderr",
     "output_type": "stream",
     "text": [
      "295it [00:27, 10.89it/s]\n",
      "0it [00:00, ?it/s]"
     ]
    },
    {
     "name": "stdout",
     "output_type": "stream",
     "text": [
      "[002/300] Train Acc: 0.502443 Loss: 1.763202 | Val Acc: 0.603236 loss: 1.289072\n",
      "saving model with acc 0.603\n"
     ]
    },
    {
     "name": "stderr",
     "output_type": "stream",
     "text": [
      "295it [00:26, 11.34it/s]\n",
      "0it [00:00, ?it/s]"
     ]
    },
    {
     "name": "stdout",
     "output_type": "stream",
     "text": [
      "[003/300] Train Acc: 0.554960 Loss: 1.553192 | Val Acc: 0.635432 loss: 1.159997\n",
      "saving model with acc 0.635\n"
     ]
    },
    {
     "name": "stderr",
     "output_type": "stream",
     "text": [
      "295it [00:25, 11.49it/s]\n",
      "0it [00:00, ?it/s]"
     ]
    },
    {
     "name": "stdout",
     "output_type": "stream",
     "text": [
      "[004/300] Train Acc: 0.587547 Loss: 1.426332 | Val Acc: 0.659539 loss: 1.081450\n",
      "saving model with acc 0.660\n"
     ]
    },
    {
     "name": "stderr",
     "output_type": "stream",
     "text": [
      "295it [00:25, 11.74it/s]\n",
      "0it [00:00, ?it/s]"
     ]
    },
    {
     "name": "stdout",
     "output_type": "stream",
     "text": [
      "[005/300] Train Acc: 0.609570 Loss: 1.339819 | Val Acc: 0.680353 loss: 1.035665\n",
      "saving model with acc 0.680\n"
     ]
    },
    {
     "name": "stderr",
     "output_type": "stream",
     "text": [
      "295it [00:25, 11.51it/s]\n",
      "0it [00:00, ?it/s]"
     ]
    },
    {
     "name": "stdout",
     "output_type": "stream",
     "text": [
      "[006/300] Train Acc: 0.626161 Loss: 1.277410 | Val Acc: 0.690231 loss: 0.986373\n",
      "saving model with acc 0.690\n"
     ]
    },
    {
     "name": "stderr",
     "output_type": "stream",
     "text": [
      "295it [00:25, 11.77it/s]\n",
      "0it [00:00, ?it/s]"
     ]
    },
    {
     "name": "stdout",
     "output_type": "stream",
     "text": [
      "[007/300] Train Acc: 0.638743 Loss: 1.228934 | Val Acc: 0.699825 loss: 0.957599\n",
      "saving model with acc 0.700\n"
     ]
    },
    {
     "name": "stderr",
     "output_type": "stream",
     "text": [
      "295it [00:25, 11.40it/s]\n",
      "0it [00:00, ?it/s]"
     ]
    },
    {
     "name": "stdout",
     "output_type": "stream",
     "text": [
      "[008/300] Train Acc: 0.649099 Loss: 1.188266 | Val Acc: 0.706411 loss: 0.937794\n",
      "saving model with acc 0.706\n"
     ]
    },
    {
     "name": "stderr",
     "output_type": "stream",
     "text": [
      "295it [00:25, 11.66it/s]\n",
      "0it [00:00, ?it/s]"
     ]
    },
    {
     "name": "stdout",
     "output_type": "stream",
     "text": [
      "[009/300] Train Acc: 0.657696 Loss: 1.156549 | Val Acc: 0.709704 loss: 0.908759\n",
      "saving model with acc 0.710\n"
     ]
    },
    {
     "name": "stderr",
     "output_type": "stream",
     "text": [
      "295it [00:25, 11.51it/s]\n",
      "0it [00:00, ?it/s]"
     ]
    },
    {
     "name": "stdout",
     "output_type": "stream",
     "text": [
      "[010/300] Train Acc: 0.665289 Loss: 1.128642 | Val Acc: 0.714826 loss: 0.900427\n",
      "saving model with acc 0.715\n"
     ]
    },
    {
     "name": "stderr",
     "output_type": "stream",
     "text": [
      "295it [00:25, 11.56it/s]\n",
      "0it [00:00, ?it/s]"
     ]
    },
    {
     "name": "stdout",
     "output_type": "stream",
     "text": [
      "[011/300] Train Acc: 0.671726 Loss: 1.104202 | Val Acc: 0.719867 loss: 0.885357\n",
      "saving model with acc 0.720\n"
     ]
    },
    {
     "name": "stderr",
     "output_type": "stream",
     "text": [
      "295it [00:27, 10.76it/s]\n",
      "0it [00:00, ?it/s]"
     ]
    },
    {
     "name": "stdout",
     "output_type": "stream",
     "text": [
      "[012/300] Train Acc: 0.677565 Loss: 1.081658 | Val Acc: 0.724176 loss: 0.884875\n",
      "saving model with acc 0.724\n"
     ]
    },
    {
     "name": "stderr",
     "output_type": "stream",
     "text": [
      "295it [00:25, 11.73it/s]\n",
      "0it [00:00, ?it/s]"
     ]
    },
    {
     "name": "stdout",
     "output_type": "stream",
     "text": [
      "[013/300] Train Acc: 0.682022 Loss: 1.062830 | Val Acc: 0.728891 loss: 0.859233\n",
      "saving model with acc 0.729\n"
     ]
    },
    {
     "name": "stderr",
     "output_type": "stream",
     "text": [
      "295it [00:25, 11.55it/s]\n",
      "0it [00:00, ?it/s]"
     ]
    },
    {
     "name": "stdout",
     "output_type": "stream",
     "text": [
      "[014/300] Train Acc: 0.687058 Loss: 1.045205 | Val Acc: 0.729054 loss: 0.855461\n",
      "saving model with acc 0.729\n"
     ]
    },
    {
     "name": "stderr",
     "output_type": "stream",
     "text": [
      "295it [00:25, 11.79it/s]\n",
      "0it [00:00, ?it/s]"
     ]
    },
    {
     "name": "stdout",
     "output_type": "stream",
     "text": [
      "[015/300] Train Acc: 0.691224 Loss: 1.029898 | Val Acc: 0.730477 loss: 0.856335\n",
      "saving model with acc 0.730\n"
     ]
    },
    {
     "name": "stderr",
     "output_type": "stream",
     "text": [
      "295it [00:27, 10.81it/s]\n",
      "0it [00:00, ?it/s]"
     ]
    },
    {
     "name": "stdout",
     "output_type": "stream",
     "text": [
      "[016/300] Train Acc: 0.695124 Loss: 1.015417 | Val Acc: 0.734501 loss: 0.824215\n",
      "saving model with acc 0.735\n"
     ]
    },
    {
     "name": "stderr",
     "output_type": "stream",
     "text": [
      "295it [00:25, 11.66it/s]\n",
      "0it [00:00, ?it/s]"
     ]
    },
    {
     "name": "stdout",
     "output_type": "stream",
     "text": [
      "[017/300] Train Acc: 0.698722 Loss: 1.002554 | Val Acc: 0.739298 loss: 0.816306\n",
      "saving model with acc 0.739\n"
     ]
    },
    {
     "name": "stderr",
     "output_type": "stream",
     "text": [
      "295it [00:25, 11.55it/s]\n",
      "0it [00:00, ?it/s]"
     ]
    },
    {
     "name": "stdout",
     "output_type": "stream",
     "text": [
      "[018/300] Train Acc: 0.702686 Loss: 0.987459 | Val Acc: 0.738079 loss: 0.817612\n"
     ]
    },
    {
     "name": "stderr",
     "output_type": "stream",
     "text": [
      "295it [00:25, 11.53it/s]\n",
      "0it [00:00, ?it/s]"
     ]
    },
    {
     "name": "stdout",
     "output_type": "stream",
     "text": [
      "[019/300] Train Acc: 0.705754 Loss: 0.975491 | Val Acc: 0.741087 loss: 0.808559\n",
      "saving model with acc 0.741\n"
     ]
    },
    {
     "name": "stderr",
     "output_type": "stream",
     "text": [
      "295it [00:25, 11.56it/s]\n",
      "0it [00:00, ?it/s]"
     ]
    },
    {
     "name": "stdout",
     "output_type": "stream",
     "text": [
      "[020/300] Train Acc: 0.708240 Loss: 0.965492 | Val Acc: 0.742510 loss: 0.818068\n",
      "saving model with acc 0.743\n"
     ]
    },
    {
     "name": "stderr",
     "output_type": "stream",
     "text": [
      "295it [00:24, 11.84it/s]\n",
      "0it [00:00, ?it/s]"
     ]
    },
    {
     "name": "stdout",
     "output_type": "stream",
     "text": [
      "[021/300] Train Acc: 0.711938 Loss: 0.953878 | Val Acc: 0.745843 loss: 0.799952\n",
      "saving model with acc 0.746\n"
     ]
    },
    {
     "name": "stderr",
     "output_type": "stream",
     "text": [
      "295it [00:25, 11.54it/s]\n",
      "1it [00:00,  6.19it/s]"
     ]
    },
    {
     "name": "stdout",
     "output_type": "stream",
     "text": [
      "[022/300] Train Acc: 0.714714 Loss: 0.942253 | Val Acc: 0.744664 loss: 0.807425\n"
     ]
    },
    {
     "name": "stderr",
     "output_type": "stream",
     "text": [
      "295it [00:24, 11.83it/s]\n",
      "1it [00:00,  5.75it/s]"
     ]
    },
    {
     "name": "stdout",
     "output_type": "stream",
     "text": [
      "[023/300] Train Acc: 0.717362 Loss: 0.932463 | Val Acc: 0.745803 loss: 0.799672\n"
     ]
    },
    {
     "name": "stderr",
     "output_type": "stream",
     "text": [
      "295it [00:25, 11.57it/s]\n",
      "0it [00:00, ?it/s]"
     ]
    },
    {
     "name": "stdout",
     "output_type": "stream",
     "text": [
      "[024/300] Train Acc: 0.720294 Loss: 0.921999 | Val Acc: 0.748689 loss: 0.792154\n",
      "saving model with acc 0.749\n"
     ]
    },
    {
     "name": "stderr",
     "output_type": "stream",
     "text": [
      "295it [00:25, 11.80it/s]\n",
      "0it [00:00, ?it/s]"
     ]
    },
    {
     "name": "stdout",
     "output_type": "stream",
     "text": [
      "[025/300] Train Acc: 0.722687 Loss: 0.913207 | Val Acc: 0.749990 loss: 0.789049\n",
      "saving model with acc 0.750\n"
     ]
    },
    {
     "name": "stderr",
     "output_type": "stream",
     "text": [
      "295it [00:25, 11.54it/s]\n",
      "0it [00:00, ?it/s]"
     ]
    },
    {
     "name": "stdout",
     "output_type": "stream",
     "text": [
      "[026/300] Train Acc: 0.724645 Loss: 0.904925 | Val Acc: 0.752835 loss: 0.781830\n",
      "saving model with acc 0.753\n"
     ]
    },
    {
     "name": "stderr",
     "output_type": "stream",
     "text": [
      "295it [00:24, 11.80it/s]\n",
      "1it [00:00,  5.85it/s]"
     ]
    },
    {
     "name": "stdout",
     "output_type": "stream",
     "text": [
      "[027/300] Train Acc: 0.726457 Loss: 0.896805 | Val Acc: 0.752185 loss: 0.786736\n"
     ]
    },
    {
     "name": "stderr",
     "output_type": "stream",
     "text": [
      "295it [00:25, 11.58it/s]\n",
      "1it [00:00,  5.95it/s]"
     ]
    },
    {
     "name": "stdout",
     "output_type": "stream",
     "text": [
      "[028/300] Train Acc: 0.728190 Loss: 0.889285 | Val Acc: 0.752022 loss: 0.771096\n"
     ]
    },
    {
     "name": "stderr",
     "output_type": "stream",
     "text": [
      "295it [00:24, 11.83it/s]\n",
      "0it [00:00, ?it/s]"
     ]
    },
    {
     "name": "stdout",
     "output_type": "stream",
     "text": [
      "[029/300] Train Acc: 0.731474 Loss: 0.881000 | Val Acc: 0.753039 loss: 0.777851\n",
      "saving model with acc 0.753\n"
     ]
    },
    {
     "name": "stderr",
     "output_type": "stream",
     "text": [
      "295it [00:25, 11.57it/s]\n",
      "0it [00:00, ?it/s]"
     ]
    },
    {
     "name": "stdout",
     "output_type": "stream",
     "text": [
      "[030/300] Train Acc: 0.732667 Loss: 0.874954 | Val Acc: 0.757998 loss: 0.765423\n",
      "saving model with acc 0.758\n"
     ]
    },
    {
     "name": "stderr",
     "output_type": "stream",
     "text": [
      "295it [00:25, 11.80it/s]\n",
      "1it [00:00,  5.89it/s]"
     ]
    },
    {
     "name": "stdout",
     "output_type": "stream",
     "text": [
      "[031/300] Train Acc: 0.735233 Loss: 0.866945 | Val Acc: 0.757023 loss: 0.768153\n"
     ]
    },
    {
     "name": "stderr",
     "output_type": "stream",
     "text": [
      "295it [00:25, 11.58it/s]\n",
      "1it [00:00,  5.92it/s]"
     ]
    },
    {
     "name": "stdout",
     "output_type": "stream",
     "text": [
      "[032/300] Train Acc: 0.735815 Loss: 0.862314 | Val Acc: 0.757145 loss: 0.776002\n"
     ]
    },
    {
     "name": "stderr",
     "output_type": "stream",
     "text": [
      "295it [00:24, 11.83it/s]\n",
      "1it [00:00,  5.93it/s]"
     ]
    },
    {
     "name": "stdout",
     "output_type": "stream",
     "text": [
      "[033/300] Train Acc: 0.737397 Loss: 0.857400 | Val Acc: 0.757795 loss: 0.745027\n"
     ]
    },
    {
     "name": "stderr",
     "output_type": "stream",
     "text": [
      "295it [00:25, 11.56it/s]\n",
      "0it [00:00, ?it/s]"
     ]
    },
    {
     "name": "stdout",
     "output_type": "stream",
     "text": [
      "[034/300] Train Acc: 0.739017 Loss: 0.851153 | Val Acc: 0.758445 loss: 0.767976\n",
      "saving model with acc 0.758\n"
     ]
    },
    {
     "name": "stderr",
     "output_type": "stream",
     "text": [
      "295it [00:25, 11.79it/s]\n",
      "0it [00:00, ?it/s]"
     ]
    },
    {
     "name": "stdout",
     "output_type": "stream",
     "text": [
      "[035/300] Train Acc: 0.740161 Loss: 0.846597 | Val Acc: 0.759462 loss: 0.762336\n",
      "saving model with acc 0.759\n"
     ]
    },
    {
     "name": "stderr",
     "output_type": "stream",
     "text": [
      "295it [00:26, 11.28it/s]\n",
      "0it [00:00, ?it/s]"
     ]
    },
    {
     "name": "stdout",
     "output_type": "stream",
     "text": [
      "[036/300] Train Acc: 0.741607 Loss: 0.840856 | Val Acc: 0.762185 loss: 0.761262\n",
      "saving model with acc 0.762\n"
     ]
    },
    {
     "name": "stderr",
     "output_type": "stream",
     "text": [
      "295it [00:26, 11.28it/s]\n",
      "1it [00:00,  5.50it/s]"
     ]
    },
    {
     "name": "stdout",
     "output_type": "stream",
     "text": [
      "[037/300] Train Acc: 0.742976 Loss: 0.835412 | Val Acc: 0.759380 loss: 0.753135\n"
     ]
    },
    {
     "name": "stderr",
     "output_type": "stream",
     "text": [
      "295it [00:26, 11.32it/s]\n",
      "1it [00:00,  5.70it/s]"
     ]
    },
    {
     "name": "stdout",
     "output_type": "stream",
     "text": [
      "[038/300] Train Acc: 0.743474 Loss: 0.831691 | Val Acc: 0.759787 loss: 0.750536\n"
     ]
    },
    {
     "name": "stderr",
     "output_type": "stream",
     "text": [
      "295it [00:25, 11.75it/s]\n",
      "0it [00:00, ?it/s]"
     ]
    },
    {
     "name": "stdout",
     "output_type": "stream",
     "text": [
      "[039/300] Train Acc: 0.745084 Loss: 0.827805 | Val Acc: 0.762226 loss: 0.748223\n",
      "saving model with acc 0.762\n"
     ]
    },
    {
     "name": "stderr",
     "output_type": "stream",
     "text": [
      "295it [00:25, 11.38it/s]\n",
      "1it [00:00,  5.32it/s]"
     ]
    },
    {
     "name": "stdout",
     "output_type": "stream",
     "text": [
      "[040/300] Train Acc: 0.746326 Loss: 0.824037 | Val Acc: 0.759543 loss: 0.738411\n"
     ]
    },
    {
     "name": "stderr",
     "output_type": "stream",
     "text": [
      "295it [00:26, 11.12it/s]\n",
      "1it [00:00,  5.41it/s]"
     ]
    },
    {
     "name": "stdout",
     "output_type": "stream",
     "text": [
      "[041/300] Train Acc: 0.746722 Loss: 0.820261 | Val Acc: 0.761901 loss: 0.748700\n"
     ]
    },
    {
     "name": "stderr",
     "output_type": "stream",
     "text": [
      "295it [00:27, 10.82it/s]\n",
      "0it [00:00, ?it/s]"
     ]
    },
    {
     "name": "stdout",
     "output_type": "stream",
     "text": [
      "[042/300] Train Acc: 0.748101 Loss: 0.816715 | Val Acc: 0.763649 loss: 0.741151\n",
      "saving model with acc 0.764\n"
     ]
    },
    {
     "name": "stderr",
     "output_type": "stream",
     "text": [
      "295it [00:27, 10.60it/s]\n",
      "0it [00:00, ?it/s]"
     ]
    },
    {
     "name": "stdout",
     "output_type": "stream",
     "text": [
      "[043/300] Train Acc: 0.749329 Loss: 0.811491 | Val Acc: 0.765031 loss: 0.752084\n",
      "saving model with acc 0.765\n"
     ]
    },
    {
     "name": "stderr",
     "output_type": "stream",
     "text": [
      "295it [00:26, 11.20it/s]\n",
      "1it [00:00,  5.73it/s]"
     ]
    },
    {
     "name": "stdout",
     "output_type": "stream",
     "text": [
      "[044/300] Train Acc: 0.750155 Loss: 0.809766 | Val Acc: 0.762836 loss: 0.745930\n"
     ]
    },
    {
     "name": "stderr",
     "output_type": "stream",
     "text": [
      "295it [00:26, 11.26it/s]\n",
      "1it [00:00,  5.48it/s]"
     ]
    },
    {
     "name": "stdout",
     "output_type": "stream",
     "text": [
      "[045/300] Train Acc: 0.751031 Loss: 0.806052 | Val Acc: 0.763649 loss: 0.750904\n"
     ]
    },
    {
     "name": "stderr",
     "output_type": "stream",
     "text": [
      "295it [00:26, 11.06it/s]\n",
      "1it [00:00,  5.91it/s]"
     ]
    },
    {
     "name": "stdout",
     "output_type": "stream",
     "text": [
      "[046/300] Train Acc: 0.751985 Loss: 0.802563 | Val Acc: 0.763933 loss: 0.750501\n"
     ]
    },
    {
     "name": "stderr",
     "output_type": "stream",
     "text": [
      "295it [00:26, 11.32it/s]\n",
      "0it [00:00, ?it/s]"
     ]
    },
    {
     "name": "stdout",
     "output_type": "stream",
     "text": [
      "[047/300] Train Acc: 0.752721 Loss: 0.799194 | Val Acc: 0.763852 loss: 0.740689\n"
     ]
    },
    {
     "name": "stderr",
     "output_type": "stream",
     "text": [
      "295it [00:27, 10.64it/s]\n",
      "0it [00:00, ?it/s]"
     ]
    },
    {
     "name": "stdout",
     "output_type": "stream",
     "text": [
      "[048/300] Train Acc: 0.753312 Loss: 0.796441 | Val Acc: 0.766901 loss: 0.740206\n",
      "saving model with acc 0.767\n"
     ]
    },
    {
     "name": "stderr",
     "output_type": "stream",
     "text": [
      "295it [00:25, 11.57it/s]\n",
      "1it [00:00,  5.79it/s]"
     ]
    },
    {
     "name": "stdout",
     "output_type": "stream",
     "text": [
      "[049/300] Train Acc: 0.753867 Loss: 0.794450 | Val Acc: 0.766779 loss: 0.749540\n"
     ]
    },
    {
     "name": "stderr",
     "output_type": "stream",
     "text": [
      "295it [00:25, 11.53it/s]\n",
      "1it [00:00,  5.89it/s]"
     ]
    },
    {
     "name": "stdout",
     "output_type": "stream",
     "text": [
      "[050/300] Train Acc: 0.754504 Loss: 0.791547 | Val Acc: 0.764299 loss: 0.735260\n"
     ]
    },
    {
     "name": "stderr",
     "output_type": "stream",
     "text": [
      "295it [00:26, 11.22it/s]\n",
      "1it [00:00,  5.51it/s]"
     ]
    },
    {
     "name": "stdout",
     "output_type": "stream",
     "text": [
      "[051/300] Train Acc: 0.755356 Loss: 0.788493 | Val Acc: 0.765072 loss: 0.734118\n"
     ]
    },
    {
     "name": "stderr",
     "output_type": "stream",
     "text": [
      "295it [00:27, 10.87it/s]\n",
      "1it [00:00,  5.70it/s]"
     ]
    },
    {
     "name": "stdout",
     "output_type": "stream",
     "text": [
      "[052/300] Train Acc: 0.755626 Loss: 0.786827 | Val Acc: 0.766576 loss: 0.731294\n"
     ]
    },
    {
     "name": "stderr",
     "output_type": "stream",
     "text": [
      "295it [00:27, 10.80it/s]\n",
      "0it [00:00, ?it/s]"
     ]
    },
    {
     "name": "stdout",
     "output_type": "stream",
     "text": [
      "[053/300] Train Acc: 0.756546 Loss: 0.783992 | Val Acc: 0.767064 loss: 0.742773\n",
      "saving model with acc 0.767\n"
     ]
    },
    {
     "name": "stderr",
     "output_type": "stream",
     "text": [
      "295it [00:26, 11.30it/s]\n",
      "0it [00:00, ?it/s]"
     ]
    },
    {
     "name": "stdout",
     "output_type": "stream",
     "text": [
      "[054/300] Train Acc: 0.757166 Loss: 0.781870 | Val Acc: 0.768080 loss: 0.733375\n",
      "saving model with acc 0.768\n"
     ]
    },
    {
     "name": "stderr",
     "output_type": "stream",
     "text": [
      "295it [00:26, 11.17it/s]\n",
      "0it [00:00, ?it/s]"
     ]
    },
    {
     "name": "stdout",
     "output_type": "stream",
     "text": [
      "[055/300] Train Acc: 0.757423 Loss: 0.780076 | Val Acc: 0.769259 loss: 0.732194\n",
      "saving model with acc 0.769\n"
     ]
    },
    {
     "name": "stderr",
     "output_type": "stream",
     "text": [
      "295it [00:25, 11.48it/s]\n",
      "0it [00:00, ?it/s]"
     ]
    },
    {
     "name": "stdout",
     "output_type": "stream",
     "text": [
      "[056/300] Train Acc: 0.758026 Loss: 0.777129 | Val Acc: 0.766738 loss: 0.727498\n"
     ]
    },
    {
     "name": "stderr",
     "output_type": "stream",
     "text": [
      "295it [00:26, 11.27it/s]\n",
      "1it [00:00,  6.01it/s]"
     ]
    },
    {
     "name": "stdout",
     "output_type": "stream",
     "text": [
      "[057/300] Train Acc: 0.759128 Loss: 0.775034 | Val Acc: 0.767226 loss: 0.732329\n"
     ]
    },
    {
     "name": "stderr",
     "output_type": "stream",
     "text": [
      "295it [00:25, 11.75it/s]\n",
      "1it [00:00,  6.00it/s]"
     ]
    },
    {
     "name": "stdout",
     "output_type": "stream",
     "text": [
      "[058/300] Train Acc: 0.759173 Loss: 0.773250 | Val Acc: 0.767836 loss: 0.736313\n"
     ]
    },
    {
     "name": "stderr",
     "output_type": "stream",
     "text": [
      "295it [00:25, 11.59it/s]\n",
      "1it [00:00,  6.06it/s]"
     ]
    },
    {
     "name": "stdout",
     "output_type": "stream",
     "text": [
      "[059/300] Train Acc: 0.760509 Loss: 0.770480 | Val Acc: 0.768893 loss: 0.722309\n"
     ]
    },
    {
     "name": "stderr",
     "output_type": "stream",
     "text": [
      "295it [00:25, 11.78it/s]\n",
      "0it [00:00, ?it/s]"
     ]
    },
    {
     "name": "stdout",
     "output_type": "stream",
     "text": [
      "[060/300] Train Acc: 0.760772 Loss: 0.768143 | Val Acc: 0.766007 loss: 0.735247\n"
     ]
    },
    {
     "name": "stderr",
     "output_type": "stream",
     "text": [
      "295it [00:25, 11.59it/s]\n",
      "1it [00:00,  6.36it/s]"
     ]
    },
    {
     "name": "stdout",
     "output_type": "stream",
     "text": [
      "[061/300] Train Acc: 0.760911 Loss: 0.767326 | Val Acc: 0.764747 loss: 0.725314\n"
     ]
    },
    {
     "name": "stderr",
     "output_type": "stream",
     "text": [
      "295it [00:25, 11.74it/s]\n",
      "1it [00:00,  6.18it/s]"
     ]
    },
    {
     "name": "stdout",
     "output_type": "stream",
     "text": [
      "[062/300] Train Acc: 0.760987 Loss: 0.765572 | Val Acc: 0.766413 loss: 0.741128\n"
     ]
    },
    {
     "name": "stderr",
     "output_type": "stream",
     "text": [
      "295it [00:25, 11.63it/s]\n",
      "1it [00:00,  5.13it/s]"
     ]
    },
    {
     "name": "stdout",
     "output_type": "stream",
     "text": [
      "[063/300] Train Acc: 0.762164 Loss: 0.762778 | Val Acc: 0.767104 loss: 0.732104\n"
     ]
    },
    {
     "name": "stderr",
     "output_type": "stream",
     "text": [
      "295it [00:26, 11.28it/s]\n",
      "1it [00:00,  5.97it/s]"
     ]
    },
    {
     "name": "stdout",
     "output_type": "stream",
     "text": [
      "[064/300] Train Acc: 0.762467 Loss: 0.761462 | Val Acc: 0.767795 loss: 0.731576\n"
     ]
    },
    {
     "name": "stderr",
     "output_type": "stream",
     "text": [
      "295it [00:25, 11.53it/s]\n",
      "1it [00:00,  5.95it/s]"
     ]
    },
    {
     "name": "stdout",
     "output_type": "stream",
     "text": [
      "[065/300] Train Acc: 0.762354 Loss: 0.760913 | Val Acc: 0.767552 loss: 0.725246\n"
     ]
    },
    {
     "name": "stderr",
     "output_type": "stream",
     "text": [
      "295it [00:25, 11.80it/s]\n",
      "1it [00:00,  6.02it/s]"
     ]
    },
    {
     "name": "stdout",
     "output_type": "stream",
     "text": [
      "[066/300] Train Acc: 0.763460 Loss: 0.758320 | Val Acc: 0.765600 loss: 0.724234\n"
     ]
    },
    {
     "name": "stderr",
     "output_type": "stream",
     "text": [
      "295it [00:25, 11.57it/s]\n",
      "1it [00:00,  5.99it/s]"
     ]
    },
    {
     "name": "stdout",
     "output_type": "stream",
     "text": [
      "[067/300] Train Acc: 0.763938 Loss: 0.756808 | Val Acc: 0.767104 loss: 0.730979\n"
     ]
    },
    {
     "name": "stderr",
     "output_type": "stream",
     "text": [
      "295it [00:24, 11.81it/s]\n",
      "1it [00:00,  6.05it/s]"
     ]
    },
    {
     "name": "stdout",
     "output_type": "stream",
     "text": [
      "[068/300] Train Acc: 0.764244 Loss: 0.755523 | Val Acc: 0.765560 loss: 0.730129\n"
     ]
    },
    {
     "name": "stderr",
     "output_type": "stream",
     "text": [
      "295it [00:25, 11.58it/s]\n",
      "1it [00:00,  5.02it/s]"
     ]
    },
    {
     "name": "stdout",
     "output_type": "stream",
     "text": [
      "[069/300] Train Acc: 0.764140 Loss: 0.754854 | Val Acc: 0.767226 loss: 0.718414\n"
     ]
    },
    {
     "name": "stderr",
     "output_type": "stream",
     "text": [
      "295it [00:25, 11.78it/s]\n",
      "1it [00:00,  6.04it/s]"
     ]
    },
    {
     "name": "stdout",
     "output_type": "stream",
     "text": [
      "[070/300] Train Acc: 0.764993 Loss: 0.751977 | Val Acc: 0.767389 loss: 0.722726\n"
     ]
    },
    {
     "name": "stderr",
     "output_type": "stream",
     "text": [
      "295it [00:25, 11.59it/s]\n",
      "1it [00:00,  6.00it/s]"
     ]
    },
    {
     "name": "stdout",
     "output_type": "stream",
     "text": [
      "[071/300] Train Acc: 0.766016 Loss: 0.750432 | Val Acc: 0.766901 loss: 0.720810\n"
     ]
    },
    {
     "name": "stderr",
     "output_type": "stream",
     "text": [
      "295it [00:24, 11.80it/s]\n",
      "1it [00:00,  5.94it/s]"
     ]
    },
    {
     "name": "stdout",
     "output_type": "stream",
     "text": [
      "[072/300] Train Acc: 0.765859 Loss: 0.748645 | Val Acc: 0.768283 loss: 0.723754\n"
     ]
    },
    {
     "name": "stderr",
     "output_type": "stream",
     "text": [
      "295it [00:25, 11.59it/s]\n",
      "0it [00:00, ?it/s]"
     ]
    },
    {
     "name": "stdout",
     "output_type": "stream",
     "text": [
      "[073/300] Train Acc: 0.766117 Loss: 0.748369 | Val Acc: 0.766657 loss: 0.732431\n"
     ]
    },
    {
     "name": "stderr",
     "output_type": "stream",
     "text": [
      "295it [00:25, 11.78it/s]\n",
      "1it [00:00,  6.37it/s]"
     ]
    },
    {
     "name": "stdout",
     "output_type": "stream",
     "text": [
      "[074/300] Train Acc: 0.766600 Loss: 0.746534 | Val Acc: 0.765316 loss: 0.712932\n"
     ]
    },
    {
     "name": "stderr",
     "output_type": "stream",
     "text": [
      "295it [00:25, 11.57it/s]\n",
      "1it [00:00,  6.03it/s]"
     ]
    },
    {
     "name": "stdout",
     "output_type": "stream",
     "text": [
      "[075/300] Train Acc: 0.766934 Loss: 0.745858 | Val Acc: 0.767917 loss: 0.719125\n"
     ]
    },
    {
     "name": "stderr",
     "output_type": "stream",
     "text": [
      "295it [00:25, 11.74it/s]\n",
      "1it [00:00,  6.03it/s]"
     ]
    },
    {
     "name": "stdout",
     "output_type": "stream",
     "text": [
      "[076/300] Train Acc: 0.766688 Loss: 0.745603 | Val Acc: 0.767145 loss: 0.726390\n"
     ]
    },
    {
     "name": "stderr",
     "output_type": "stream",
     "text": [
      "295it [00:25, 11.48it/s]\n",
      "1it [00:00,  6.04it/s]"
     ]
    },
    {
     "name": "stdout",
     "output_type": "stream",
     "text": [
      "[077/300] Train Acc: 0.767704 Loss: 0.742510 | Val Acc: 0.768690 loss: 0.713491\n"
     ]
    },
    {
     "name": "stderr",
     "output_type": "stream",
     "text": [
      "295it [00:25, 11.74it/s]\n",
      "1it [00:00,  6.01it/s]"
     ]
    },
    {
     "name": "stdout",
     "output_type": "stream",
     "text": [
      "[078/300] Train Acc: 0.768017 Loss: 0.740810 | Val Acc: 0.769137 loss: 0.704581\n"
     ]
    },
    {
     "name": "stderr",
     "output_type": "stream",
     "text": [
      "295it [00:25, 11.48it/s]\n",
      "1it [00:00,  6.06it/s]"
     ]
    },
    {
     "name": "stdout",
     "output_type": "stream",
     "text": [
      "[079/300] Train Acc: 0.768118 Loss: 0.740510 | Val Acc: 0.766291 loss: 0.719826\n"
     ]
    },
    {
     "name": "stderr",
     "output_type": "stream",
     "text": [
      "295it [00:25, 11.73it/s]\n",
      "0it [00:00, ?it/s]"
     ]
    },
    {
     "name": "stdout",
     "output_type": "stream",
     "text": [
      "[080/300] Train Acc: 0.768713 Loss: 0.740221 | Val Acc: 0.769422 loss: 0.709750\n",
      "saving model with acc 0.769\n"
     ]
    },
    {
     "name": "stderr",
     "output_type": "stream",
     "text": [
      "295it [00:27, 10.72it/s]\n",
      "1it [00:00,  5.72it/s]"
     ]
    },
    {
     "name": "stdout",
     "output_type": "stream",
     "text": [
      "[081/300] Train Acc: 0.768365 Loss: 0.739217 | Val Acc: 0.769015 loss: 0.718591\n"
     ]
    },
    {
     "name": "stderr",
     "output_type": "stream",
     "text": [
      "295it [00:26, 10.95it/s]\n",
      "0it [00:00, ?it/s]"
     ]
    },
    {
     "name": "stdout",
     "output_type": "stream",
     "text": [
      "[082/300] Train Acc: 0.768912 Loss: 0.736627 | Val Acc: 0.772348 loss: 0.710033\n",
      "saving model with acc 0.772\n"
     ]
    },
    {
     "name": "stderr",
     "output_type": "stream",
     "text": [
      "295it [00:26, 11.13it/s]\n",
      "1it [00:00,  5.96it/s]"
     ]
    },
    {
     "name": "stdout",
     "output_type": "stream",
     "text": [
      "[083/300] Train Acc: 0.769107 Loss: 0.735748 | Val Acc: 0.768324 loss: 0.720078\n"
     ]
    },
    {
     "name": "stderr",
     "output_type": "stream",
     "text": [
      "295it [00:25, 11.75it/s]\n",
      "1it [00:00,  5.87it/s]"
     ]
    },
    {
     "name": "stdout",
     "output_type": "stream",
     "text": [
      "[084/300] Train Acc: 0.769704 Loss: 0.734090 | Val Acc: 0.770031 loss: 0.710848\n"
     ]
    },
    {
     "name": "stderr",
     "output_type": "stream",
     "text": [
      "295it [00:25, 11.56it/s]\n",
      "1it [00:00,  6.12it/s]"
     ]
    },
    {
     "name": "stdout",
     "output_type": "stream",
     "text": [
      "[085/300] Train Acc: 0.769983 Loss: 0.733866 | Val Acc: 0.767755 loss: 0.716267\n"
     ]
    },
    {
     "name": "stderr",
     "output_type": "stream",
     "text": [
      "295it [00:24, 11.81it/s]\n",
      "0it [00:00, ?it/s]"
     ]
    },
    {
     "name": "stdout",
     "output_type": "stream",
     "text": [
      "[086/300] Train Acc: 0.769927 Loss: 0.733636 | Val Acc: 0.769665 loss: 0.719946\n"
     ]
    },
    {
     "name": "stderr",
     "output_type": "stream",
     "text": [
      "295it [00:25, 11.45it/s]\n",
      "1it [00:00,  6.42it/s]"
     ]
    },
    {
     "name": "stdout",
     "output_type": "stream",
     "text": [
      "[087/300] Train Acc: 0.771070 Loss: 0.730893 | Val Acc: 0.769543 loss: 0.725404\n"
     ]
    },
    {
     "name": "stderr",
     "output_type": "stream",
     "text": [
      "295it [00:24, 11.81it/s]\n",
      "1it [00:00,  5.96it/s]"
     ]
    },
    {
     "name": "stdout",
     "output_type": "stream",
     "text": [
      "[088/300] Train Acc: 0.770696 Loss: 0.730728 | Val Acc: 0.768446 loss: 0.717520\n"
     ]
    },
    {
     "name": "stderr",
     "output_type": "stream",
     "text": [
      "295it [00:25, 11.54it/s]\n",
      "1it [00:00,  6.09it/s]"
     ]
    },
    {
     "name": "stdout",
     "output_type": "stream",
     "text": [
      "[089/300] Train Acc: 0.771372 Loss: 0.728731 | Val Acc: 0.772267 loss: 0.717415\n"
     ]
    },
    {
     "name": "stderr",
     "output_type": "stream",
     "text": [
      "295it [00:24, 11.81it/s]\n",
      "1it [00:00,  6.05it/s]"
     ]
    },
    {
     "name": "stdout",
     "output_type": "stream",
     "text": [
      "[090/300] Train Acc: 0.771983 Loss: 0.727589 | Val Acc: 0.769096 loss: 0.716466\n"
     ]
    },
    {
     "name": "stderr",
     "output_type": "stream",
     "text": [
      "295it [00:25, 11.53it/s]\n",
      "1it [00:00,  6.08it/s]"
     ]
    },
    {
     "name": "stdout",
     "output_type": "stream",
     "text": [
      "[091/300] Train Acc: 0.771443 Loss: 0.728434 | Val Acc: 0.772227 loss: 0.718478\n"
     ]
    },
    {
     "name": "stderr",
     "output_type": "stream",
     "text": [
      "295it [00:25, 11.80it/s]\n",
      "1it [00:00,  6.06it/s]"
     ]
    },
    {
     "name": "stdout",
     "output_type": "stream",
     "text": [
      "[092/300] Train Acc: 0.772512 Loss: 0.726384 | Val Acc: 0.771901 loss: 0.715502\n"
     ]
    },
    {
     "name": "stderr",
     "output_type": "stream",
     "text": [
      "295it [00:25, 11.56it/s]\n",
      "1it [00:00,  5.99it/s]"
     ]
    },
    {
     "name": "stdout",
     "output_type": "stream",
     "text": [
      "[093/300] Train Acc: 0.772026 Loss: 0.725533 | Val Acc: 0.768405 loss: 0.708554\n"
     ]
    },
    {
     "name": "stderr",
     "output_type": "stream",
     "text": [
      "295it [00:25, 11.69it/s]\n",
      "1it [00:00,  5.95it/s]"
     ]
    },
    {
     "name": "stdout",
     "output_type": "stream",
     "text": [
      "[094/300] Train Acc: 0.772579 Loss: 0.725951 | Val Acc: 0.771779 loss: 0.707393\n"
     ]
    },
    {
     "name": "stderr",
     "output_type": "stream",
     "text": [
      "295it [00:25, 11.54it/s]\n",
      "0it [00:00, ?it/s]"
     ]
    },
    {
     "name": "stdout",
     "output_type": "stream",
     "text": [
      "[095/300] Train Acc: 0.772803 Loss: 0.723238 | Val Acc: 0.773162 loss: 0.712201\n",
      "saving model with acc 0.773\n"
     ]
    },
    {
     "name": "stderr",
     "output_type": "stream",
     "text": [
      "295it [00:25, 11.77it/s]\n",
      "1it [00:00,  6.22it/s]"
     ]
    },
    {
     "name": "stdout",
     "output_type": "stream",
     "text": [
      "[096/300] Train Acc: 0.772648 Loss: 0.722712 | Val Acc: 0.769178 loss: 0.718073\n"
     ]
    },
    {
     "name": "stderr",
     "output_type": "stream",
     "text": [
      "295it [00:25, 11.53it/s]\n",
      "1it [00:00,  6.28it/s]"
     ]
    },
    {
     "name": "stdout",
     "output_type": "stream",
     "text": [
      "[097/300] Train Acc: 0.773359 Loss: 0.721483 | Val Acc: 0.771617 loss: 0.725936\n"
     ]
    },
    {
     "name": "stderr",
     "output_type": "stream",
     "text": [
      "295it [00:24, 11.81it/s]\n",
      "1it [00:00,  6.26it/s]"
     ]
    },
    {
     "name": "stdout",
     "output_type": "stream",
     "text": [
      "[098/300] Train Acc: 0.773424 Loss: 0.721086 | Val Acc: 0.771495 loss: 0.713793\n"
     ]
    },
    {
     "name": "stderr",
     "output_type": "stream",
     "text": [
      "295it [00:25, 11.54it/s]\n",
      "1it [00:00,  5.20it/s]"
     ]
    },
    {
     "name": "stdout",
     "output_type": "stream",
     "text": [
      "[099/300] Train Acc: 0.773640 Loss: 0.720765 | Val Acc: 0.772430 loss: 0.718871\n"
     ]
    },
    {
     "name": "stderr",
     "output_type": "stream",
     "text": [
      "295it [00:25, 11.79it/s]\n",
      "1it [00:00,  6.58it/s]"
     ]
    },
    {
     "name": "stdout",
     "output_type": "stream",
     "text": [
      "[100/300] Train Acc: 0.774247 Loss: 0.719634 | Val Acc: 0.766860 loss: 0.737702\n"
     ]
    },
    {
     "name": "stderr",
     "output_type": "stream",
     "text": [
      "295it [00:25, 11.57it/s]\n",
      "1it [00:00,  6.27it/s]"
     ]
    },
    {
     "name": "stdout",
     "output_type": "stream",
     "text": [
      "[101/300] Train Acc: 0.773714 Loss: 0.719324 | Val Acc: 0.768893 loss: 0.718984\n"
     ]
    },
    {
     "name": "stderr",
     "output_type": "stream",
     "text": [
      "295it [00:24, 11.82it/s]\n",
      "1it [00:00,  6.24it/s]"
     ]
    },
    {
     "name": "stdout",
     "output_type": "stream",
     "text": [
      "[102/300] Train Acc: 0.774045 Loss: 0.718024 | Val Acc: 0.771129 loss: 0.709541\n"
     ]
    },
    {
     "name": "stderr",
     "output_type": "stream",
     "text": [
      "295it [00:25, 11.56it/s]\n",
      "1it [00:00,  6.33it/s]"
     ]
    },
    {
     "name": "stdout",
     "output_type": "stream",
     "text": [
      "[103/300] Train Acc: 0.774510 Loss: 0.717437 | Val Acc: 0.769991 loss: 0.713326\n"
     ]
    },
    {
     "name": "stderr",
     "output_type": "stream",
     "text": [
      "295it [00:25, 11.80it/s]\n",
      "1it [00:00,  6.21it/s]"
     ]
    },
    {
     "name": "stdout",
     "output_type": "stream",
     "text": [
      "[104/300] Train Acc: 0.774468 Loss: 0.716673 | Val Acc: 0.771413 loss: 0.718188\n"
     ]
    },
    {
     "name": "stderr",
     "output_type": "stream",
     "text": [
      "295it [00:25, 11.55it/s]\n",
      "1it [00:00,  6.30it/s]"
     ]
    },
    {
     "name": "stdout",
     "output_type": "stream",
     "text": [
      "[105/300] Train Acc: 0.774868 Loss: 0.716812 | Val Acc: 0.769665 loss: 0.712959\n"
     ]
    },
    {
     "name": "stderr",
     "output_type": "stream",
     "text": [
      "295it [00:24, 11.82it/s]\n",
      "1it [00:00,  6.28it/s]"
     ]
    },
    {
     "name": "stdout",
     "output_type": "stream",
     "text": [
      "[106/300] Train Acc: 0.775342 Loss: 0.715422 | Val Acc: 0.770641 loss: 0.720333\n"
     ]
    },
    {
     "name": "stderr",
     "output_type": "stream",
     "text": [
      "295it [00:25, 11.56it/s]\n",
      "1it [00:00,  6.21it/s]"
     ]
    },
    {
     "name": "stdout",
     "output_type": "stream",
     "text": [
      "[107/300] Train Acc: 0.775611 Loss: 0.713767 | Val Acc: 0.771210 loss: 0.717456\n"
     ]
    },
    {
     "name": "stderr",
     "output_type": "stream",
     "text": [
      "295it [00:25, 11.77it/s]\n",
      "1it [00:00,  5.22it/s]"
     ]
    },
    {
     "name": "stdout",
     "output_type": "stream",
     "text": [
      "[108/300] Train Acc: 0.775755 Loss: 0.713688 | Val Acc: 0.772796 loss: 0.699391\n"
     ]
    },
    {
     "name": "stderr",
     "output_type": "stream",
     "text": [
      "295it [00:25, 11.56it/s]\n",
      "1it [00:00,  6.33it/s]"
     ]
    },
    {
     "name": "stdout",
     "output_type": "stream",
     "text": [
      "[109/300] Train Acc: 0.775173 Loss: 0.714173 | Val Acc: 0.771576 loss: 0.707093\n"
     ]
    },
    {
     "name": "stderr",
     "output_type": "stream",
     "text": [
      "295it [00:25, 11.77it/s]\n",
      "1it [00:00,  6.26it/s]"
     ]
    },
    {
     "name": "stdout",
     "output_type": "stream",
     "text": [
      "[110/300] Train Acc: 0.775697 Loss: 0.712855 | Val Acc: 0.772958 loss: 0.709471\n"
     ]
    },
    {
     "name": "stderr",
     "output_type": "stream",
     "text": [
      "295it [00:25, 11.58it/s]\n",
      "1it [00:00,  6.35it/s]"
     ]
    },
    {
     "name": "stdout",
     "output_type": "stream",
     "text": [
      "[111/300] Train Acc: 0.776367 Loss: 0.710699 | Val Acc: 0.770722 loss: 0.705980\n"
     ]
    },
    {
     "name": "stderr",
     "output_type": "stream",
     "text": [
      "295it [00:26, 11.23it/s]\n",
      "0it [00:00, ?it/s]"
     ]
    },
    {
     "name": "stdout",
     "output_type": "stream",
     "text": [
      "[112/300] Train Acc: 0.775628 Loss: 0.712098 | Val Acc: 0.771251 loss: 0.710965\n"
     ]
    },
    {
     "name": "stderr",
     "output_type": "stream",
     "text": [
      "295it [00:26, 10.99it/s]\n",
      "1it [00:00,  6.65it/s]"
     ]
    },
    {
     "name": "stdout",
     "output_type": "stream",
     "text": [
      "[113/300] Train Acc: 0.776339 Loss: 0.710319 | Val Acc: 0.766901 loss: 0.710141\n"
     ]
    },
    {
     "name": "stderr",
     "output_type": "stream",
     "text": [
      "295it [00:25, 11.73it/s]\n",
      "1it [00:00,  6.21it/s]"
     ]
    },
    {
     "name": "stdout",
     "output_type": "stream",
     "text": [
      "[114/300] Train Acc: 0.775717 Loss: 0.710702 | Val Acc: 0.770682 loss: 0.716840\n"
     ]
    },
    {
     "name": "stderr",
     "output_type": "stream",
     "text": [
      "295it [00:25, 11.62it/s]\n",
      "1it [00:00,  6.32it/s]"
     ]
    },
    {
     "name": "stdout",
     "output_type": "stream",
     "text": [
      "[115/300] Train Acc: 0.777057 Loss: 0.708123 | Val Acc: 0.767917 loss: 0.714957\n"
     ]
    },
    {
     "name": "stderr",
     "output_type": "stream",
     "text": [
      "295it [00:25, 11.70it/s]\n",
      "1it [00:00,  6.25it/s]"
     ]
    },
    {
     "name": "stdout",
     "output_type": "stream",
     "text": [
      "[116/300] Train Acc: 0.777264 Loss: 0.707467 | Val Acc: 0.772430 loss: 0.707885\n"
     ]
    },
    {
     "name": "stderr",
     "output_type": "stream",
     "text": [
      "295it [00:25, 11.62it/s]\n",
      "1it [00:00,  6.33it/s]"
     ]
    },
    {
     "name": "stdout",
     "output_type": "stream",
     "text": [
      "[117/300] Train Acc: 0.777517 Loss: 0.707759 | Val Acc: 0.769300 loss: 0.711371\n"
     ]
    },
    {
     "name": "stderr",
     "output_type": "stream",
     "text": [
      "295it [00:25, 11.70it/s]\n",
      "1it [00:00,  6.14it/s]"
     ]
    },
    {
     "name": "stdout",
     "output_type": "stream",
     "text": [
      "[118/300] Train Acc: 0.777235 Loss: 0.707986 | Val Acc: 0.771617 loss: 0.716338\n"
     ]
    },
    {
     "name": "stderr",
     "output_type": "stream",
     "text": [
      "295it [00:25, 11.64it/s]\n",
      "1it [00:00,  6.33it/s]"
     ]
    },
    {
     "name": "stdout",
     "output_type": "stream",
     "text": [
      "[119/300] Train Acc: 0.777211 Loss: 0.708332 | Val Acc: 0.769340 loss: 0.714833\n"
     ]
    },
    {
     "name": "stderr",
     "output_type": "stream",
     "text": [
      "295it [00:25, 11.70it/s]\n",
      "1it [00:00,  6.18it/s]"
     ]
    },
    {
     "name": "stdout",
     "output_type": "stream",
     "text": [
      "[120/300] Train Acc: 0.777868 Loss: 0.705897 | Val Acc: 0.771495 loss: 0.716126\n"
     ]
    },
    {
     "name": "stderr",
     "output_type": "stream",
     "text": [
      "295it [00:25, 11.60it/s]\n",
      "1it [00:00,  5.30it/s]"
     ]
    },
    {
     "name": "stdout",
     "output_type": "stream",
     "text": [
      "[121/300] Train Acc: 0.777090 Loss: 0.707178 | Val Acc: 0.770966 loss: 0.705068\n"
     ]
    },
    {
     "name": "stderr",
     "output_type": "stream",
     "text": [
      "295it [00:25, 11.69it/s]\n",
      "1it [00:00,  6.26it/s]"
     ]
    },
    {
     "name": "stdout",
     "output_type": "stream",
     "text": [
      "[122/300] Train Acc: 0.777678 Loss: 0.705279 | Val Acc: 0.769869 loss: 0.702165\n"
     ]
    },
    {
     "name": "stderr",
     "output_type": "stream",
     "text": [
      "295it [00:25, 11.62it/s]\n",
      "1it [00:00,  6.40it/s]"
     ]
    },
    {
     "name": "stdout",
     "output_type": "stream",
     "text": [
      "[123/300] Train Acc: 0.777515 Loss: 0.705444 | Val Acc: 0.771657 loss: 0.705422\n"
     ]
    },
    {
     "name": "stderr",
     "output_type": "stream",
     "text": [
      "295it [00:25, 11.65it/s]\n",
      "1it [00:00,  6.32it/s]"
     ]
    },
    {
     "name": "stdout",
     "output_type": "stream",
     "text": [
      "[124/300] Train Acc: 0.777968 Loss: 0.704601 | Val Acc: 0.772674 loss: 0.708482\n"
     ]
    },
    {
     "name": "stderr",
     "output_type": "stream",
     "text": [
      "295it [00:25, 11.54it/s]\n",
      "0it [00:00, ?it/s]"
     ]
    },
    {
     "name": "stdout",
     "output_type": "stream",
     "text": [
      "[125/300] Train Acc: 0.778427 Loss: 0.703726 | Val Acc: 0.773243 loss: 0.705631\n",
      "saving model with acc 0.773\n"
     ]
    },
    {
     "name": "stderr",
     "output_type": "stream",
     "text": [
      "295it [00:25, 11.64it/s]\n",
      "1it [00:00,  6.62it/s]"
     ]
    },
    {
     "name": "stdout",
     "output_type": "stream",
     "text": [
      "[126/300] Train Acc: 0.778032 Loss: 0.704031 | Val Acc: 0.770600 loss: 0.703929\n"
     ]
    },
    {
     "name": "stderr",
     "output_type": "stream",
     "text": [
      "295it [00:25, 11.68it/s]\n",
      "1it [00:00,  6.42it/s]"
     ]
    },
    {
     "name": "stdout",
     "output_type": "stream",
     "text": [
      "[127/300] Train Acc: 0.778678 Loss: 0.701596 | Val Acc: 0.771983 loss: 0.701444\n"
     ]
    },
    {
     "name": "stderr",
     "output_type": "stream",
     "text": [
      "295it [00:25, 11.66it/s]\n",
      "1it [00:00,  6.12it/s]"
     ]
    },
    {
     "name": "stdout",
     "output_type": "stream",
     "text": [
      "[128/300] Train Acc: 0.779062 Loss: 0.701597 | Val Acc: 0.770275 loss: 0.709376\n"
     ]
    },
    {
     "name": "stderr",
     "output_type": "stream",
     "text": [
      "295it [00:25, 11.67it/s]\n",
      "1it [00:00,  6.34it/s]"
     ]
    },
    {
     "name": "stdout",
     "output_type": "stream",
     "text": [
      "[129/300] Train Acc: 0.778482 Loss: 0.701571 | Val Acc: 0.768527 loss: 0.710166\n"
     ]
    },
    {
     "name": "stderr",
     "output_type": "stream",
     "text": [
      "295it [00:25, 11.68it/s]\n",
      "1it [00:00,  6.24it/s]"
     ]
    },
    {
     "name": "stdout",
     "output_type": "stream",
     "text": [
      "[130/300] Train Acc: 0.778577 Loss: 0.701734 | Val Acc: 0.772633 loss: 0.706379\n"
     ]
    },
    {
     "name": "stderr",
     "output_type": "stream",
     "text": [
      "295it [00:25, 11.66it/s]\n",
      "0it [00:00, ?it/s]"
     ]
    },
    {
     "name": "stdout",
     "output_type": "stream",
     "text": [
      "[131/300] Train Acc: 0.779195 Loss: 0.699915 | Val Acc: 0.773365 loss: 0.704931\n",
      "saving model with acc 0.773\n"
     ]
    },
    {
     "name": "stderr",
     "output_type": "stream",
     "text": [
      "295it [00:25, 11.72it/s]\n",
      "1it [00:00,  6.33it/s]"
     ]
    },
    {
     "name": "stdout",
     "output_type": "stream",
     "text": [
      "[132/300] Train Acc: 0.779235 Loss: 0.699710 | Val Acc: 0.770722 loss: 0.704273\n"
     ]
    },
    {
     "name": "stderr",
     "output_type": "stream",
     "text": [
      "295it [00:25, 11.59it/s]\n",
      "1it [00:00,  6.48it/s]"
     ]
    },
    {
     "name": "stdout",
     "output_type": "stream",
     "text": [
      "[133/300] Train Acc: 0.779116 Loss: 0.699792 | Val Acc: 0.771292 loss: 0.700483\n"
     ]
    },
    {
     "name": "stderr",
     "output_type": "stream",
     "text": [
      "295it [00:25, 11.71it/s]\n",
      "1it [00:00,  5.14it/s]"
     ]
    },
    {
     "name": "stdout",
     "output_type": "stream",
     "text": [
      "[134/300] Train Acc: 0.779571 Loss: 0.698156 | Val Acc: 0.770926 loss: 0.696503\n"
     ]
    },
    {
     "name": "stderr",
     "output_type": "stream",
     "text": [
      "295it [00:25, 11.61it/s]\n",
      "1it [00:00,  6.40it/s]"
     ]
    },
    {
     "name": "stdout",
     "output_type": "stream",
     "text": [
      "[135/300] Train Acc: 0.779296 Loss: 0.698797 | Val Acc: 0.770722 loss: 0.710559\n"
     ]
    },
    {
     "name": "stderr",
     "output_type": "stream",
     "text": [
      "295it [00:25, 11.70it/s]\n",
      "1it [00:00,  6.33it/s]"
     ]
    },
    {
     "name": "stdout",
     "output_type": "stream",
     "text": [
      "[136/300] Train Acc: 0.780142 Loss: 0.698071 | Val Acc: 0.767836 loss: 0.715498\n"
     ]
    },
    {
     "name": "stderr",
     "output_type": "stream",
     "text": [
      "295it [00:25, 11.63it/s]\n",
      "1it [00:00,  6.49it/s]"
     ]
    },
    {
     "name": "stdout",
     "output_type": "stream",
     "text": [
      "[137/300] Train Acc: 0.780117 Loss: 0.697508 | Val Acc: 0.771251 loss: 0.705811\n"
     ]
    },
    {
     "name": "stderr",
     "output_type": "stream",
     "text": [
      "295it [00:25, 11.66it/s]\n",
      "1it [00:00,  5.22it/s]"
     ]
    },
    {
     "name": "stdout",
     "output_type": "stream",
     "text": [
      "[138/300] Train Acc: 0.779685 Loss: 0.697489 | Val Acc: 0.768446 loss: 0.714510\n"
     ]
    },
    {
     "name": "stderr",
     "output_type": "stream",
     "text": [
      "295it [00:25, 11.63it/s]\n",
      "1it [00:00,  6.79it/s]"
     ]
    },
    {
     "name": "stdout",
     "output_type": "stream",
     "text": [
      "[139/300] Train Acc: 0.779697 Loss: 0.697651 | Val Acc: 0.771170 loss: 0.707975\n"
     ]
    },
    {
     "name": "stderr",
     "output_type": "stream",
     "text": [
      "295it [00:25, 11.70it/s]\n",
      "1it [00:00,  6.37it/s]"
     ]
    },
    {
     "name": "stdout",
     "output_type": "stream",
     "text": [
      "[140/300] Train Acc: 0.780388 Loss: 0.696236 | Val Acc: 0.770194 loss: 0.715752\n"
     ]
    },
    {
     "name": "stderr",
     "output_type": "stream",
     "text": [
      "295it [00:25, 11.65it/s]\n",
      "1it [00:00,  6.48it/s]"
     ]
    },
    {
     "name": "stdout",
     "output_type": "stream",
     "text": [
      "[141/300] Train Acc: 0.780471 Loss: 0.695372 | Val Acc: 0.768568 loss: 0.714482\n"
     ]
    },
    {
     "name": "stderr",
     "output_type": "stream",
     "text": [
      "295it [00:25, 11.70it/s]\n",
      "1it [00:00,  6.37it/s]"
     ]
    },
    {
     "name": "stdout",
     "output_type": "stream",
     "text": [
      "[142/300] Train Acc: 0.780481 Loss: 0.695952 | Val Acc: 0.768893 loss: 0.723667\n"
     ]
    },
    {
     "name": "stderr",
     "output_type": "stream",
     "text": [
      "295it [00:25, 11.64it/s]\n",
      "1it [00:00,  6.45it/s]"
     ]
    },
    {
     "name": "stdout",
     "output_type": "stream",
     "text": [
      "[143/300] Train Acc: 0.780277 Loss: 0.695455 | Val Acc: 0.772470 loss: 0.711703\n"
     ]
    },
    {
     "name": "stderr",
     "output_type": "stream",
     "text": [
      "295it [00:25, 11.68it/s]\n",
      "0it [00:00, ?it/s]"
     ]
    },
    {
     "name": "stdout",
     "output_type": "stream",
     "text": [
      "[144/300] Train Acc: 0.780862 Loss: 0.694870 | Val Acc: 0.774340 loss: 0.711770\n",
      "saving model with acc 0.774\n"
     ]
    },
    {
     "name": "stderr",
     "output_type": "stream",
     "text": [
      "295it [00:25, 11.61it/s]\n",
      "1it [00:00,  6.43it/s]"
     ]
    },
    {
     "name": "stdout",
     "output_type": "stream",
     "text": [
      "[145/300] Train Acc: 0.781176 Loss: 0.694700 | Val Acc: 0.774259 loss: 0.706218\n"
     ]
    },
    {
     "name": "stderr",
     "output_type": "stream",
     "text": [
      "295it [00:25, 11.67it/s]\n",
      "1it [00:00,  6.36it/s]"
     ]
    },
    {
     "name": "stdout",
     "output_type": "stream",
     "text": [
      "[146/300] Train Acc: 0.780756 Loss: 0.693737 | Val Acc: 0.770438 loss: 0.707918\n"
     ]
    },
    {
     "name": "stderr",
     "output_type": "stream",
     "text": [
      "295it [00:25, 11.54it/s]\n",
      "1it [00:00,  5.32it/s]"
     ]
    },
    {
     "name": "stdout",
     "output_type": "stream",
     "text": [
      "[147/300] Train Acc: 0.780698 Loss: 0.693962 | Val Acc: 0.772105 loss: 0.711760\n"
     ]
    },
    {
     "name": "stderr",
     "output_type": "stream",
     "text": [
      "295it [00:25, 11.59it/s]\n",
      "1it [00:00,  6.34it/s]"
     ]
    },
    {
     "name": "stdout",
     "output_type": "stream",
     "text": [
      "[148/300] Train Acc: 0.780914 Loss: 0.693160 | Val Acc: 0.770275 loss: 0.719860\n"
     ]
    },
    {
     "name": "stderr",
     "output_type": "stream",
     "text": [
      "295it [00:25, 11.55it/s]\n",
      "1it [00:00,  6.48it/s]"
     ]
    },
    {
     "name": "stdout",
     "output_type": "stream",
     "text": [
      "[149/300] Train Acc: 0.781110 Loss: 0.693441 | Val Acc: 0.771657 loss: 0.707281\n"
     ]
    },
    {
     "name": "stderr",
     "output_type": "stream",
     "text": [
      "295it [00:25, 11.58it/s]\n",
      "1it [00:00,  6.23it/s]"
     ]
    },
    {
     "name": "stdout",
     "output_type": "stream",
     "text": [
      "[150/300] Train Acc: 0.781029 Loss: 0.692942 | Val Acc: 0.770926 loss: 0.710984\n"
     ]
    },
    {
     "name": "stderr",
     "output_type": "stream",
     "text": [
      "295it [00:25, 11.55it/s]\n",
      "1it [00:00,  5.30it/s]"
     ]
    },
    {
     "name": "stdout",
     "output_type": "stream",
     "text": [
      "[151/300] Train Acc: 0.780926 Loss: 0.692572 | Val Acc: 0.773202 loss: 0.699961\n"
     ]
    },
    {
     "name": "stderr",
     "output_type": "stream",
     "text": [
      "295it [00:25, 11.61it/s]\n",
      "1it [00:00,  6.69it/s]"
     ]
    },
    {
     "name": "stdout",
     "output_type": "stream",
     "text": [
      "[152/300] Train Acc: 0.780957 Loss: 0.693252 | Val Acc: 0.772918 loss: 0.705580\n"
     ]
    },
    {
     "name": "stderr",
     "output_type": "stream",
     "text": [
      "295it [00:25, 11.58it/s]\n",
      "1it [00:00,  6.49it/s]"
     ]
    },
    {
     "name": "stdout",
     "output_type": "stream",
     "text": [
      "[153/300] Train Acc: 0.781425 Loss: 0.691641 | Val Acc: 0.773365 loss: 0.699892\n"
     ]
    },
    {
     "name": "stderr",
     "output_type": "stream",
     "text": [
      "295it [00:25, 11.61it/s]\n",
      "1it [00:00,  6.19it/s]"
     ]
    },
    {
     "name": "stdout",
     "output_type": "stream",
     "text": [
      "[154/300] Train Acc: 0.781568 Loss: 0.692413 | Val Acc: 0.771007 loss: 0.713622\n"
     ]
    },
    {
     "name": "stderr",
     "output_type": "stream",
     "text": [
      "295it [00:25, 11.56it/s]\n",
      "1it [00:00,  6.54it/s]"
     ]
    },
    {
     "name": "stdout",
     "output_type": "stream",
     "text": [
      "[155/300] Train Acc: 0.781114 Loss: 0.691773 | Val Acc: 0.770560 loss: 0.723010\n"
     ]
    },
    {
     "name": "stderr",
     "output_type": "stream",
     "text": [
      "295it [00:25, 11.60it/s]\n",
      "1it [00:00,  6.26it/s]"
     ]
    },
    {
     "name": "stdout",
     "output_type": "stream",
     "text": [
      "[156/300] Train Acc: 0.781533 Loss: 0.691368 | Val Acc: 0.771617 loss: 0.717114\n"
     ]
    },
    {
     "name": "stderr",
     "output_type": "stream",
     "text": [
      "295it [00:25, 11.55it/s]\n",
      "1it [00:00,  6.52it/s]"
     ]
    },
    {
     "name": "stdout",
     "output_type": "stream",
     "text": [
      "[157/300] Train Acc: 0.781560 Loss: 0.691296 | Val Acc: 0.770722 loss: 0.714824\n"
     ]
    },
    {
     "name": "stderr",
     "output_type": "stream",
     "text": [
      "295it [00:25, 11.59it/s]\n",
      "1it [00:00,  6.40it/s]"
     ]
    },
    {
     "name": "stdout",
     "output_type": "stream",
     "text": [
      "[158/300] Train Acc: 0.781971 Loss: 0.690658 | Val Acc: 0.771698 loss: 0.706755\n"
     ]
    },
    {
     "name": "stderr",
     "output_type": "stream",
     "text": [
      "295it [00:25, 11.57it/s]\n",
      "1it [00:00,  6.51it/s]"
     ]
    },
    {
     "name": "stdout",
     "output_type": "stream",
     "text": [
      "[159/300] Train Acc: 0.781851 Loss: 0.690393 | Val Acc: 0.773934 loss: 0.707492\n"
     ]
    },
    {
     "name": "stderr",
     "output_type": "stream",
     "text": [
      "295it [00:25, 11.59it/s]\n",
      "1it [00:00,  5.26it/s]"
     ]
    },
    {
     "name": "stdout",
     "output_type": "stream",
     "text": [
      "[160/300] Train Acc: 0.782082 Loss: 0.689555 | Val Acc: 0.771942 loss: 0.709010\n"
     ]
    },
    {
     "name": "stderr",
     "output_type": "stream",
     "text": [
      "295it [00:25, 11.54it/s]\n",
      "1it [00:00,  6.49it/s]"
     ]
    },
    {
     "name": "stdout",
     "output_type": "stream",
     "text": [
      "[161/300] Train Acc: 0.781689 Loss: 0.690298 | Val Acc: 0.769543 loss: 0.716077\n"
     ]
    },
    {
     "name": "stderr",
     "output_type": "stream",
     "text": [
      "295it [00:25, 11.57it/s]\n",
      "1it [00:00,  6.28it/s]"
     ]
    },
    {
     "name": "stdout",
     "output_type": "stream",
     "text": [
      "[162/300] Train Acc: 0.782244 Loss: 0.689207 | Val Acc: 0.771251 loss: 0.700867\n"
     ]
    },
    {
     "name": "stderr",
     "output_type": "stream",
     "text": [
      "295it [00:25, 11.61it/s]\n",
      "1it [00:00,  6.50it/s]"
     ]
    },
    {
     "name": "stdout",
     "output_type": "stream",
     "text": [
      "[163/300] Train Acc: 0.782142 Loss: 0.688456 | Val Acc: 0.770926 loss: 0.724865\n"
     ]
    },
    {
     "name": "stderr",
     "output_type": "stream",
     "text": [
      "295it [00:25, 11.53it/s]\n",
      "1it [00:00,  5.20it/s]"
     ]
    },
    {
     "name": "stdout",
     "output_type": "stream",
     "text": [
      "[164/300] Train Acc: 0.782487 Loss: 0.688773 | Val Acc: 0.771576 loss: 0.718482\n"
     ]
    },
    {
     "name": "stderr",
     "output_type": "stream",
     "text": [
      "295it [00:25, 11.58it/s]\n",
      "1it [00:00,  6.54it/s]"
     ]
    },
    {
     "name": "stdout",
     "output_type": "stream",
     "text": [
      "[165/300] Train Acc: 0.781948 Loss: 0.689838 | Val Acc: 0.770722 loss: 0.710779\n"
     ]
    },
    {
     "name": "stderr",
     "output_type": "stream",
     "text": [
      "295it [00:25, 11.51it/s]\n",
      "1it [00:00,  6.31it/s]"
     ]
    },
    {
     "name": "stdout",
     "output_type": "stream",
     "text": [
      "[166/300] Train Acc: 0.782426 Loss: 0.688160 | Val Acc: 0.773080 loss: 0.712144\n"
     ]
    },
    {
     "name": "stderr",
     "output_type": "stream",
     "text": [
      "295it [00:25, 11.49it/s]\n",
      "1it [00:00,  6.48it/s]"
     ]
    },
    {
     "name": "stdout",
     "output_type": "stream",
     "text": [
      "[167/300] Train Acc: 0.782705 Loss: 0.687371 | Val Acc: 0.771210 loss: 0.714578\n"
     ]
    },
    {
     "name": "stderr",
     "output_type": "stream",
     "text": [
      "295it [00:25, 11.46it/s]\n",
      "1it [00:00,  6.49it/s]"
     ]
    },
    {
     "name": "stdout",
     "output_type": "stream",
     "text": [
      "[168/300] Train Acc: 0.782107 Loss: 0.688578 | Val Acc: 0.773690 loss: 0.706058\n"
     ]
    },
    {
     "name": "stderr",
     "output_type": "stream",
     "text": [
      "295it [00:25, 11.67it/s]\n",
      "1it [00:00,  6.43it/s]"
     ]
    },
    {
     "name": "stdout",
     "output_type": "stream",
     "text": [
      "[169/300] Train Acc: 0.782518 Loss: 0.687343 | Val Acc: 0.773283 loss: 0.710872\n"
     ]
    },
    {
     "name": "stderr",
     "output_type": "stream",
     "text": [
      "295it [00:25, 11.53it/s]\n",
      "1it [00:00,  6.51it/s]"
     ]
    },
    {
     "name": "stdout",
     "output_type": "stream",
     "text": [
      "[170/300] Train Acc: 0.782316 Loss: 0.687187 | Val Acc: 0.771454 loss: 0.712087\n"
     ]
    },
    {
     "name": "stderr",
     "output_type": "stream",
     "text": [
      "295it [00:25, 11.70it/s]\n",
      "1it [00:00,  6.48it/s]"
     ]
    },
    {
     "name": "stdout",
     "output_type": "stream",
     "text": [
      "[171/300] Train Acc: 0.782817 Loss: 0.686011 | Val Acc: 0.769178 loss: 0.712388\n"
     ]
    },
    {
     "name": "stderr",
     "output_type": "stream",
     "text": [
      "295it [00:25, 11.47it/s]\n",
      "1it [00:00,  6.39it/s]"
     ]
    },
    {
     "name": "stdout",
     "output_type": "stream",
     "text": [
      "[172/300] Train Acc: 0.782789 Loss: 0.686551 | Val Acc: 0.771861 loss: 0.704456\n"
     ]
    },
    {
     "name": "stderr",
     "output_type": "stream",
     "text": [
      "295it [00:25, 11.70it/s]\n",
      "1it [00:00,  5.29it/s]"
     ]
    },
    {
     "name": "stdout",
     "output_type": "stream",
     "text": [
      "[173/300] Train Acc: 0.783123 Loss: 0.685308 | Val Acc: 0.771007 loss: 0.702706\n"
     ]
    },
    {
     "name": "stderr",
     "output_type": "stream",
     "text": [
      "295it [00:25, 11.44it/s]\n",
      "1it [00:00,  6.52it/s]"
     ]
    },
    {
     "name": "stdout",
     "output_type": "stream",
     "text": [
      "[174/300] Train Acc: 0.783013 Loss: 0.685880 | Val Acc: 0.769625 loss: 0.710230\n"
     ]
    },
    {
     "name": "stderr",
     "output_type": "stream",
     "text": [
      "295it [00:25, 11.69it/s]\n",
      "1it [00:00,  6.29it/s]"
     ]
    },
    {
     "name": "stdout",
     "output_type": "stream",
     "text": [
      "[175/300] Train Acc: 0.782769 Loss: 0.686523 | Val Acc: 0.771739 loss: 0.705897\n"
     ]
    },
    {
     "name": "stderr",
     "output_type": "stream",
     "text": [
      "295it [00:25, 11.47it/s]\n",
      "1it [00:00,  6.42it/s]"
     ]
    },
    {
     "name": "stdout",
     "output_type": "stream",
     "text": [
      "[176/300] Train Acc: 0.782667 Loss: 0.687019 | Val Acc: 0.770560 loss: 0.718273\n"
     ]
    },
    {
     "name": "stderr",
     "output_type": "stream",
     "text": [
      "295it [00:25, 11.71it/s]\n",
      "1it [00:00,  5.26it/s]"
     ]
    },
    {
     "name": "stdout",
     "output_type": "stream",
     "text": [
      "[177/300] Train Acc: 0.783247 Loss: 0.684499 | Val Acc: 0.772714 loss: 0.698427\n"
     ]
    },
    {
     "name": "stderr",
     "output_type": "stream",
     "text": [
      "295it [00:25, 11.44it/s]\n",
      "1it [00:00,  6.90it/s]"
     ]
    },
    {
     "name": "stdout",
     "output_type": "stream",
     "text": [
      "[178/300] Train Acc: 0.783312 Loss: 0.684800 | Val Acc: 0.772714 loss: 0.709815\n"
     ]
    },
    {
     "name": "stderr",
     "output_type": "stream",
     "text": [
      "295it [00:25, 11.68it/s]\n",
      "1it [00:00,  6.44it/s]"
     ]
    },
    {
     "name": "stdout",
     "output_type": "stream",
     "text": [
      "[179/300] Train Acc: 0.783954 Loss: 0.683566 | Val Acc: 0.773527 loss: 0.700866\n"
     ]
    },
    {
     "name": "stderr",
     "output_type": "stream",
     "text": [
      "295it [00:25, 11.48it/s]\n",
      "1it [00:00,  6.56it/s]"
     ]
    },
    {
     "name": "stdout",
     "output_type": "stream",
     "text": [
      "[180/300] Train Acc: 0.783149 Loss: 0.685613 | Val Acc: 0.772552 loss: 0.711916\n"
     ]
    },
    {
     "name": "stderr",
     "output_type": "stream",
     "text": [
      "295it [00:25, 11.69it/s]\n",
      "1it [00:00,  6.45it/s]"
     ]
    },
    {
     "name": "stdout",
     "output_type": "stream",
     "text": [
      "[181/300] Train Acc: 0.783686 Loss: 0.683837 | Val Acc: 0.770560 loss: 0.716626\n"
     ]
    },
    {
     "name": "stderr",
     "output_type": "stream",
     "text": [
      "295it [00:25, 11.52it/s]\n",
      "1it [00:00,  6.53it/s]"
     ]
    },
    {
     "name": "stdout",
     "output_type": "stream",
     "text": [
      "[182/300] Train Acc: 0.783164 Loss: 0.684642 | Val Acc: 0.772267 loss: 0.712769\n"
     ]
    },
    {
     "name": "stderr",
     "output_type": "stream",
     "text": [
      "295it [00:25, 11.77it/s]\n",
      "1it [00:00,  6.45it/s]"
     ]
    },
    {
     "name": "stdout",
     "output_type": "stream",
     "text": [
      "[183/300] Train Acc: 0.783401 Loss: 0.683602 | Val Acc: 0.769787 loss: 0.719869\n"
     ]
    },
    {
     "name": "stderr",
     "output_type": "stream",
     "text": [
      "295it [00:25, 11.38it/s]\n",
      "1it [00:00,  5.65it/s]"
     ]
    },
    {
     "name": "stdout",
     "output_type": "stream",
     "text": [
      "[184/300] Train Acc: 0.783345 Loss: 0.684190 | Val Acc: 0.770763 loss: 0.701592\n"
     ]
    },
    {
     "name": "stderr",
     "output_type": "stream",
     "text": [
      "295it [00:26, 11.01it/s]\n",
      "1it [00:00,  6.28it/s]"
     ]
    },
    {
     "name": "stdout",
     "output_type": "stream",
     "text": [
      "[185/300] Train Acc: 0.783291 Loss: 0.683323 | Val Acc: 0.773324 loss: 0.701860\n"
     ]
    },
    {
     "name": "stderr",
     "output_type": "stream",
     "text": [
      "295it [00:25, 11.49it/s]\n",
      "1it [00:00,  5.29it/s]"
     ]
    },
    {
     "name": "stdout",
     "output_type": "stream",
     "text": [
      "[186/300] Train Acc: 0.783680 Loss: 0.682599 | Val Acc: 0.773365 loss: 0.696073\n"
     ]
    },
    {
     "name": "stderr",
     "output_type": "stream",
     "text": [
      "295it [00:25, 11.70it/s]\n",
      "0it [00:00, ?it/s]"
     ]
    },
    {
     "name": "stdout",
     "output_type": "stream",
     "text": [
      "[187/300] Train Acc: 0.783690 Loss: 0.683864 | Val Acc: 0.774381 loss: 0.697517\n",
      "saving model with acc 0.774\n"
     ]
    },
    {
     "name": "stderr",
     "output_type": "stream",
     "text": [
      "295it [00:25, 11.59it/s]\n",
      "1it [00:00,  6.58it/s]"
     ]
    },
    {
     "name": "stdout",
     "output_type": "stream",
     "text": [
      "[188/300] Train Acc: 0.783645 Loss: 0.682958 | Val Acc: 0.773202 loss: 0.705429\n"
     ]
    },
    {
     "name": "stderr",
     "output_type": "stream",
     "text": [
      "295it [00:25, 11.68it/s]\n",
      "1it [00:00,  6.50it/s]"
     ]
    },
    {
     "name": "stdout",
     "output_type": "stream",
     "text": [
      "[189/300] Train Acc: 0.783875 Loss: 0.683265 | Val Acc: 0.772592 loss: 0.695509\n"
     ]
    },
    {
     "name": "stderr",
     "output_type": "stream",
     "text": [
      "295it [00:25, 11.62it/s]\n",
      "1it [00:00,  5.37it/s]"
     ]
    },
    {
     "name": "stdout",
     "output_type": "stream",
     "text": [
      "[190/300] Train Acc: 0.783733 Loss: 0.680873 | Val Acc: 0.774178 loss: 0.701392\n"
     ]
    },
    {
     "name": "stderr",
     "output_type": "stream",
     "text": [
      "295it [00:25, 11.70it/s]\n",
      "1it [00:00,  6.87it/s]"
     ]
    },
    {
     "name": "stdout",
     "output_type": "stream",
     "text": [
      "[191/300] Train Acc: 0.784144 Loss: 0.681581 | Val Acc: 0.771332 loss: 0.700337\n"
     ]
    },
    {
     "name": "stderr",
     "output_type": "stream",
     "text": [
      "295it [00:25, 11.62it/s]\n",
      "1it [00:00,  6.61it/s]"
     ]
    },
    {
     "name": "stdout",
     "output_type": "stream",
     "text": [
      "[192/300] Train Acc: 0.784264 Loss: 0.682150 | Val Acc: 0.771901 loss: 0.704374\n"
     ]
    },
    {
     "name": "stderr",
     "output_type": "stream",
     "text": [
      "295it [00:25, 11.71it/s]\n",
      "1it [00:00,  6.51it/s]"
     ]
    },
    {
     "name": "stdout",
     "output_type": "stream",
     "text": [
      "[193/300] Train Acc: 0.783822 Loss: 0.681513 | Val Acc: 0.771454 loss: 0.713349\n"
     ]
    },
    {
     "name": "stderr",
     "output_type": "stream",
     "text": [
      "295it [00:25, 11.63it/s]\n",
      "1it [00:00,  6.65it/s]"
     ]
    },
    {
     "name": "stdout",
     "output_type": "stream",
     "text": [
      "[194/300] Train Acc: 0.784330 Loss: 0.681277 | Val Acc: 0.768161 loss: 0.711316\n"
     ]
    },
    {
     "name": "stderr",
     "output_type": "stream",
     "text": [
      "295it [00:25, 11.70it/s]\n",
      "1it [00:00,  6.36it/s]"
     ]
    },
    {
     "name": "stdout",
     "output_type": "stream",
     "text": [
      "[195/300] Train Acc: 0.783763 Loss: 0.682134 | Val Acc: 0.770600 loss: 0.707517\n"
     ]
    },
    {
     "name": "stderr",
     "output_type": "stream",
     "text": [
      "295it [00:25, 11.63it/s]\n",
      "1it [00:00,  6.63it/s]"
     ]
    },
    {
     "name": "stdout",
     "output_type": "stream",
     "text": [
      "[196/300] Train Acc: 0.784621 Loss: 0.680263 | Val Acc: 0.770113 loss: 0.713684\n"
     ]
    },
    {
     "name": "stderr",
     "output_type": "stream",
     "text": [
      "295it [00:25, 11.71it/s]\n",
      "1it [00:00,  6.49it/s]"
     ]
    },
    {
     "name": "stdout",
     "output_type": "stream",
     "text": [
      "[197/300] Train Acc: 0.784653 Loss: 0.680174 | Val Acc: 0.769706 loss: 0.712252\n"
     ]
    },
    {
     "name": "stderr",
     "output_type": "stream",
     "text": [
      "295it [00:25, 11.63it/s]\n",
      "1it [00:00,  6.66it/s]"
     ]
    },
    {
     "name": "stdout",
     "output_type": "stream",
     "text": [
      "[198/300] Train Acc: 0.784499 Loss: 0.680277 | Val Acc: 0.770478 loss: 0.713015\n"
     ]
    },
    {
     "name": "stderr",
     "output_type": "stream",
     "text": [
      "295it [00:25, 11.70it/s]\n",
      "1it [00:00,  5.38it/s]"
     ]
    },
    {
     "name": "stdout",
     "output_type": "stream",
     "text": [
      "[199/300] Train Acc: 0.784407 Loss: 0.681028 | Val Acc: 0.771373 loss: 0.712714\n"
     ]
    },
    {
     "name": "stderr",
     "output_type": "stream",
     "text": [
      "295it [00:25, 11.59it/s]\n",
      "1it [00:00,  6.63it/s]"
     ]
    },
    {
     "name": "stdout",
     "output_type": "stream",
     "text": [
      "[200/300] Train Acc: 0.784247 Loss: 0.679994 | Val Acc: 0.771495 loss: 0.709230\n"
     ]
    },
    {
     "name": "stderr",
     "output_type": "stream",
     "text": [
      "295it [00:25, 11.66it/s]\n",
      "1it [00:00,  6.52it/s]"
     ]
    },
    {
     "name": "stdout",
     "output_type": "stream",
     "text": [
      "[201/300] Train Acc: 0.784678 Loss: 0.679401 | Val Acc: 0.770194 loss: 0.707208\n"
     ]
    },
    {
     "name": "stderr",
     "output_type": "stream",
     "text": [
      "295it [00:25, 11.63it/s]\n",
      "1it [00:00,  6.47it/s]"
     ]
    },
    {
     "name": "stdout",
     "output_type": "stream",
     "text": [
      "[202/300] Train Acc: 0.784656 Loss: 0.679192 | Val Acc: 0.772186 loss: 0.711117\n"
     ]
    },
    {
     "name": "stderr",
     "output_type": "stream",
     "text": [
      "295it [00:25, 11.70it/s]\n",
      "1it [00:00,  5.33it/s]"
     ]
    },
    {
     "name": "stdout",
     "output_type": "stream",
     "text": [
      "[203/300] Train Acc: 0.784488 Loss: 0.679056 | Val Acc: 0.772714 loss: 0.704223\n"
     ]
    },
    {
     "name": "stderr",
     "output_type": "stream",
     "text": [
      "295it [00:25, 11.58it/s]\n",
      "1it [00:00,  6.84it/s]"
     ]
    },
    {
     "name": "stdout",
     "output_type": "stream",
     "text": [
      "[204/300] Train Acc: 0.784853 Loss: 0.679791 | Val Acc: 0.770153 loss: 0.708976\n"
     ]
    },
    {
     "name": "stderr",
     "output_type": "stream",
     "text": [
      "295it [00:25, 11.66it/s]\n",
      "1it [00:00,  6.50it/s]"
     ]
    },
    {
     "name": "stdout",
     "output_type": "stream",
     "text": [
      "[205/300] Train Acc: 0.784580 Loss: 0.679555 | Val Acc: 0.771576 loss: 0.710694\n"
     ]
    },
    {
     "name": "stderr",
     "output_type": "stream",
     "text": [
      "295it [00:25, 11.64it/s]\n",
      "1it [00:00,  6.64it/s]"
     ]
    },
    {
     "name": "stdout",
     "output_type": "stream",
     "text": [
      "[206/300] Train Acc: 0.784643 Loss: 0.679332 | Val Acc: 0.771048 loss: 0.702218\n"
     ]
    },
    {
     "name": "stderr",
     "output_type": "stream",
     "text": [
      "295it [00:25, 11.62it/s]\n",
      "1it [00:00,  6.51it/s]"
     ]
    },
    {
     "name": "stdout",
     "output_type": "stream",
     "text": [
      "[207/300] Train Acc: 0.784696 Loss: 0.679504 | Val Acc: 0.773365 loss: 0.702816\n"
     ]
    },
    {
     "name": "stderr",
     "output_type": "stream",
     "text": [
      "295it [00:25, 11.68it/s]\n",
      "1it [00:00,  6.24it/s]"
     ]
    },
    {
     "name": "stdout",
     "output_type": "stream",
     "text": [
      "[208/300] Train Acc: 0.785039 Loss: 0.678527 | Val Acc: 0.773080 loss: 0.695267\n"
     ]
    },
    {
     "name": "stderr",
     "output_type": "stream",
     "text": [
      "295it [00:25, 11.59it/s]\n",
      "1it [00:00,  6.52it/s]"
     ]
    },
    {
     "name": "stdout",
     "output_type": "stream",
     "text": [
      "[209/300] Train Acc: 0.785098 Loss: 0.678523 | Val Acc: 0.771129 loss: 0.714570\n"
     ]
    },
    {
     "name": "stderr",
     "output_type": "stream",
     "text": [
      "295it [00:25, 11.72it/s]\n",
      "1it [00:00,  6.62it/s]"
     ]
    },
    {
     "name": "stdout",
     "output_type": "stream",
     "text": [
      "[210/300] Train Acc: 0.784879 Loss: 0.678186 | Val Acc: 0.773609 loss: 0.702656\n"
     ]
    },
    {
     "name": "stderr",
     "output_type": "stream",
     "text": [
      "295it [00:25, 11.58it/s]\n",
      "1it [00:00,  6.44it/s]"
     ]
    },
    {
     "name": "stdout",
     "output_type": "stream",
     "text": [
      "[211/300] Train Acc: 0.785134 Loss: 0.677915 | Val Acc: 0.773446 loss: 0.698364\n"
     ]
    },
    {
     "name": "stderr",
     "output_type": "stream",
     "text": [
      "295it [00:25, 11.74it/s]\n",
      "1it [00:00,  5.43it/s]"
     ]
    },
    {
     "name": "stdout",
     "output_type": "stream",
     "text": [
      "[212/300] Train Acc: 0.784874 Loss: 0.678078 | Val Acc: 0.771048 loss: 0.718317\n"
     ]
    },
    {
     "name": "stderr",
     "output_type": "stream",
     "text": [
      "295it [00:25, 11.51it/s]\n",
      "1it [00:00,  6.58it/s]"
     ]
    },
    {
     "name": "stdout",
     "output_type": "stream",
     "text": [
      "[213/300] Train Acc: 0.785370 Loss: 0.677621 | Val Acc: 0.770031 loss: 0.709290\n"
     ]
    },
    {
     "name": "stderr",
     "output_type": "stream",
     "text": [
      "295it [00:25, 11.78it/s]\n",
      "1it [00:00,  6.59it/s]"
     ]
    },
    {
     "name": "stdout",
     "output_type": "stream",
     "text": [
      "[214/300] Train Acc: 0.784878 Loss: 0.678561 | Val Acc: 0.773649 loss: 0.709055\n"
     ]
    },
    {
     "name": "stderr",
     "output_type": "stream",
     "text": [
      "295it [00:25, 11.53it/s]\n",
      "1it [00:00,  6.62it/s]"
     ]
    },
    {
     "name": "stdout",
     "output_type": "stream",
     "text": [
      "[215/300] Train Acc: 0.785532 Loss: 0.677312 | Val Acc: 0.773121 loss: 0.700861\n"
     ]
    },
    {
     "name": "stderr",
     "output_type": "stream",
     "text": [
      "295it [00:25, 11.77it/s]\n",
      "1it [00:00,  5.26it/s]"
     ]
    },
    {
     "name": "stdout",
     "output_type": "stream",
     "text": [
      "[216/300] Train Acc: 0.785479 Loss: 0.676668 | Val Acc: 0.773812 loss: 0.694725\n"
     ]
    },
    {
     "name": "stderr",
     "output_type": "stream",
     "text": [
      "295it [00:25, 11.52it/s]\n",
      "1it [00:00,  6.96it/s]"
     ]
    },
    {
     "name": "stdout",
     "output_type": "stream",
     "text": [
      "[217/300] Train Acc: 0.785140 Loss: 0.677197 | Val Acc: 0.772227 loss: 0.702602\n"
     ]
    },
    {
     "name": "stderr",
     "output_type": "stream",
     "text": [
      "295it [00:25, 11.80it/s]\n",
      "1it [00:00,  6.38it/s]"
     ]
    },
    {
     "name": "stdout",
     "output_type": "stream",
     "text": [
      "[218/300] Train Acc: 0.785594 Loss: 0.677194 | Val Acc: 0.771901 loss: 0.700442\n"
     ]
    },
    {
     "name": "stderr",
     "output_type": "stream",
     "text": [
      "295it [00:25, 11.54it/s]\n",
      "1it [00:00,  6.60it/s]"
     ]
    },
    {
     "name": "stdout",
     "output_type": "stream",
     "text": [
      "[219/300] Train Acc: 0.785048 Loss: 0.677380 | Val Acc: 0.772064 loss: 0.709866\n"
     ]
    },
    {
     "name": "stderr",
     "output_type": "stream",
     "text": [
      "295it [00:25, 11.79it/s]\n",
      "1it [00:00,  6.52it/s]"
     ]
    },
    {
     "name": "stdout",
     "output_type": "stream",
     "text": [
      "[220/300] Train Acc: 0.785458 Loss: 0.676315 | Val Acc: 0.770235 loss: 0.704016\n"
     ]
    },
    {
     "name": "stderr",
     "output_type": "stream",
     "text": [
      "295it [00:25, 11.53it/s]\n",
      "1it [00:00,  6.59it/s]"
     ]
    },
    {
     "name": "stdout",
     "output_type": "stream",
     "text": [
      "[221/300] Train Acc: 0.785247 Loss: 0.677191 | Val Acc: 0.771332 loss: 0.707618\n"
     ]
    },
    {
     "name": "stderr",
     "output_type": "stream",
     "text": [
      "295it [00:25, 11.80it/s]\n",
      "1it [00:00,  6.56it/s]"
     ]
    },
    {
     "name": "stdout",
     "output_type": "stream",
     "text": [
      "[222/300] Train Acc: 0.785773 Loss: 0.675330 | Val Acc: 0.771251 loss: 0.686549\n"
     ]
    },
    {
     "name": "stderr",
     "output_type": "stream",
     "text": [
      "295it [00:25, 11.55it/s]\n",
      "1it [00:00,  6.63it/s]"
     ]
    },
    {
     "name": "stdout",
     "output_type": "stream",
     "text": [
      "[223/300] Train Acc: 0.785577 Loss: 0.676417 | Val Acc: 0.771983 loss: 0.700980\n"
     ]
    },
    {
     "name": "stderr",
     "output_type": "stream",
     "text": [
      "295it [00:24, 11.81it/s]\n",
      "1it [00:00,  6.55it/s]"
     ]
    },
    {
     "name": "stdout",
     "output_type": "stream",
     "text": [
      "[224/300] Train Acc: 0.785469 Loss: 0.675521 | Val Acc: 0.772999 loss: 0.699322\n"
     ]
    },
    {
     "name": "stderr",
     "output_type": "stream",
     "text": [
      "295it [00:25, 11.54it/s]\n",
      "1it [00:00,  5.41it/s]"
     ]
    },
    {
     "name": "stdout",
     "output_type": "stream",
     "text": [
      "[225/300] Train Acc: 0.785945 Loss: 0.675337 | Val Acc: 0.773080 loss: 0.702479\n"
     ]
    },
    {
     "name": "stderr",
     "output_type": "stream",
     "text": [
      "295it [00:25, 11.79it/s]\n",
      "0it [00:00, ?it/s]"
     ]
    },
    {
     "name": "stdout",
     "output_type": "stream",
     "text": [
      "[226/300] Train Acc: 0.786445 Loss: 0.673748 | Val Acc: 0.775113 loss: 0.699928\n",
      "saving model with acc 0.775\n"
     ]
    },
    {
     "name": "stderr",
     "output_type": "stream",
     "text": [
      "295it [00:25, 11.51it/s]\n",
      "1it [00:00,  6.58it/s]"
     ]
    },
    {
     "name": "stdout",
     "output_type": "stream",
     "text": [
      "[227/300] Train Acc: 0.785162 Loss: 0.676907 | Val Acc: 0.770560 loss: 0.703450\n"
     ]
    },
    {
     "name": "stderr",
     "output_type": "stream",
     "text": [
      "295it [00:25, 11.78it/s]\n",
      "1it [00:00,  6.50it/s]"
     ]
    },
    {
     "name": "stdout",
     "output_type": "stream",
     "text": [
      "[228/300] Train Acc: 0.786197 Loss: 0.674123 | Val Acc: 0.770397 loss: 0.704704\n"
     ]
    },
    {
     "name": "stderr",
     "output_type": "stream",
     "text": [
      "295it [00:25, 11.54it/s]\n",
      "1it [00:00,  5.40it/s]"
     ]
    },
    {
     "name": "stdout",
     "output_type": "stream",
     "text": [
      "[229/300] Train Acc: 0.785763 Loss: 0.674501 | Val Acc: 0.769543 loss: 0.715464\n"
     ]
    },
    {
     "name": "stderr",
     "output_type": "stream",
     "text": [
      "295it [00:25, 11.79it/s]\n",
      "1it [00:00,  6.88it/s]"
     ]
    },
    {
     "name": "stdout",
     "output_type": "stream",
     "text": [
      "[230/300] Train Acc: 0.786017 Loss: 0.674334 | Val Acc: 0.772227 loss: 0.708630\n"
     ]
    },
    {
     "name": "stderr",
     "output_type": "stream",
     "text": [
      "295it [00:25, 11.54it/s]\n",
      "1it [00:00,  6.57it/s]"
     ]
    },
    {
     "name": "stdout",
     "output_type": "stream",
     "text": [
      "[231/300] Train Acc: 0.785756 Loss: 0.675954 | Val Acc: 0.772186 loss: 0.703063\n"
     ]
    },
    {
     "name": "stderr",
     "output_type": "stream",
     "text": [
      "295it [00:25, 11.80it/s]\n",
      "1it [00:00,  6.55it/s]"
     ]
    },
    {
     "name": "stdout",
     "output_type": "stream",
     "text": [
      "[232/300] Train Acc: 0.786028 Loss: 0.674125 | Val Acc: 0.774747 loss: 0.705655\n"
     ]
    },
    {
     "name": "stderr",
     "output_type": "stream",
     "text": [
      "295it [00:25, 11.53it/s]\n",
      "1it [00:00,  6.57it/s]"
     ]
    },
    {
     "name": "stdout",
     "output_type": "stream",
     "text": [
      "[233/300] Train Acc: 0.785590 Loss: 0.676018 | Val Acc: 0.771251 loss: 0.701318\n"
     ]
    },
    {
     "name": "stderr",
     "output_type": "stream",
     "text": [
      "295it [00:25, 11.77it/s]\n",
      "1it [00:00,  6.47it/s]"
     ]
    },
    {
     "name": "stdout",
     "output_type": "stream",
     "text": [
      "[234/300] Train Acc: 0.785679 Loss: 0.675175 | Val Acc: 0.770357 loss: 0.710103\n"
     ]
    },
    {
     "name": "stderr",
     "output_type": "stream",
     "text": [
      "295it [00:25, 11.55it/s]\n",
      "1it [00:00,  6.61it/s]"
     ]
    },
    {
     "name": "stdout",
     "output_type": "stream",
     "text": [
      "[235/300] Train Acc: 0.786360 Loss: 0.673712 | Val Acc: 0.770438 loss: 0.714239\n"
     ]
    },
    {
     "name": "stderr",
     "output_type": "stream",
     "text": [
      "295it [00:25, 11.76it/s]\n",
      "1it [00:00,  6.58it/s]"
     ]
    },
    {
     "name": "stdout",
     "output_type": "stream",
     "text": [
      "[236/300] Train Acc: 0.786562 Loss: 0.673958 | Val Acc: 0.771861 loss: 0.710772\n"
     ]
    },
    {
     "name": "stderr",
     "output_type": "stream",
     "text": [
      "295it [00:25, 11.57it/s]\n",
      "1it [00:00,  6.64it/s]"
     ]
    },
    {
     "name": "stdout",
     "output_type": "stream",
     "text": [
      "[237/300] Train Acc: 0.786692 Loss: 0.673030 | Val Acc: 0.771983 loss: 0.700347\n"
     ]
    },
    {
     "name": "stderr",
     "output_type": "stream",
     "text": [
      "295it [00:25, 11.72it/s]\n",
      "1it [00:00,  5.36it/s]"
     ]
    },
    {
     "name": "stdout",
     "output_type": "stream",
     "text": [
      "[238/300] Train Acc: 0.786179 Loss: 0.674299 | Val Acc: 0.773243 loss: 0.714624\n"
     ]
    },
    {
     "name": "stderr",
     "output_type": "stream",
     "text": [
      "295it [00:25, 11.58it/s]\n",
      "1it [00:00,  6.63it/s]"
     ]
    },
    {
     "name": "stdout",
     "output_type": "stream",
     "text": [
      "[239/300] Train Acc: 0.786462 Loss: 0.673081 | Val Acc: 0.771373 loss: 0.708871\n"
     ]
    },
    {
     "name": "stderr",
     "output_type": "stream",
     "text": [
      "295it [00:25, 11.70it/s]\n",
      "1it [00:00,  6.51it/s]"
     ]
    },
    {
     "name": "stdout",
     "output_type": "stream",
     "text": [
      "[240/300] Train Acc: 0.786140 Loss: 0.673749 | Val Acc: 0.770804 loss: 0.706568\n"
     ]
    },
    {
     "name": "stderr",
     "output_type": "stream",
     "text": [
      "295it [00:25, 11.61it/s]\n",
      "1it [00:00,  6.66it/s]"
     ]
    },
    {
     "name": "stdout",
     "output_type": "stream",
     "text": [
      "[241/300] Train Acc: 0.786443 Loss: 0.672709 | Val Acc: 0.770641 loss: 0.715399\n"
     ]
    },
    {
     "name": "stderr",
     "output_type": "stream",
     "text": [
      "295it [00:25, 11.67it/s]\n",
      "1it [00:00,  5.33it/s]"
     ]
    },
    {
     "name": "stdout",
     "output_type": "stream",
     "text": [
      "[242/300] Train Acc: 0.786150 Loss: 0.674164 | Val Acc: 0.773324 loss: 0.709355\n"
     ]
    },
    {
     "name": "stderr",
     "output_type": "stream",
     "text": [
      "295it [00:25, 11.65it/s]\n",
      "1it [00:00,  6.97it/s]"
     ]
    },
    {
     "name": "stdout",
     "output_type": "stream",
     "text": [
      "[243/300] Train Acc: 0.786318 Loss: 0.673728 | Val Acc: 0.772755 loss: 0.709054\n"
     ]
    },
    {
     "name": "stderr",
     "output_type": "stream",
     "text": [
      "295it [00:25, 11.64it/s]\n",
      "1it [00:00,  6.48it/s]"
     ]
    },
    {
     "name": "stdout",
     "output_type": "stream",
     "text": [
      "[244/300] Train Acc: 0.786662 Loss: 0.673263 | Val Acc: 0.771983 loss: 0.713081\n"
     ]
    },
    {
     "name": "stderr",
     "output_type": "stream",
     "text": [
      "295it [00:25, 11.69it/s]\n",
      "1it [00:00,  6.45it/s]"
     ]
    },
    {
     "name": "stdout",
     "output_type": "stream",
     "text": [
      "[245/300] Train Acc: 0.786513 Loss: 0.673599 | Val Acc: 0.771088 loss: 0.717137\n"
     ]
    },
    {
     "name": "stderr",
     "output_type": "stream",
     "text": [
      "295it [00:25, 11.59it/s]\n",
      "1it [00:00,  6.50it/s]"
     ]
    },
    {
     "name": "stdout",
     "output_type": "stream",
     "text": [
      "[246/300] Train Acc: 0.786648 Loss: 0.672271 | Val Acc: 0.771576 loss: 0.713087\n"
     ]
    },
    {
     "name": "stderr",
     "output_type": "stream",
     "text": [
      "295it [00:26, 11.20it/s]\n",
      "1it [00:00,  5.73it/s]"
     ]
    },
    {
     "name": "stdout",
     "output_type": "stream",
     "text": [
      "[247/300] Train Acc: 0.786791 Loss: 0.672536 | Val Acc: 0.773202 loss: 0.697927\n"
     ]
    },
    {
     "name": "stderr",
     "output_type": "stream",
     "text": [
      "295it [00:27, 10.67it/s]\n",
      "1it [00:00,  5.50it/s]"
     ]
    },
    {
     "name": "stdout",
     "output_type": "stream",
     "text": [
      "[248/300] Train Acc: 0.786692 Loss: 0.672726 | Val Acc: 0.770600 loss: 0.717734\n"
     ]
    },
    {
     "name": "stderr",
     "output_type": "stream",
     "text": [
      "295it [00:28, 10.23it/s]\n",
      "1it [00:00,  5.30it/s]"
     ]
    },
    {
     "name": "stdout",
     "output_type": "stream",
     "text": [
      "[249/300] Train Acc: 0.786306 Loss: 0.671508 | Val Acc: 0.771779 loss: 0.709071\n"
     ]
    },
    {
     "name": "stderr",
     "output_type": "stream",
     "text": [
      "295it [00:28, 10.19it/s]\n",
      "0it [00:00, ?it/s]"
     ]
    },
    {
     "name": "stdout",
     "output_type": "stream",
     "text": [
      "[250/300] Train Acc: 0.786555 Loss: 0.671459 | Val Acc: 0.772674 loss: 0.714158\n"
     ]
    },
    {
     "name": "stderr",
     "output_type": "stream",
     "text": [
      "295it [00:29, 10.12it/s]\n",
      "0it [00:00, ?it/s]"
     ]
    },
    {
     "name": "stdout",
     "output_type": "stream",
     "text": [
      "[251/300] Train Acc: 0.786403 Loss: 0.672903 | Val Acc: 0.774666 loss: 0.710783\n"
     ]
    },
    {
     "name": "stderr",
     "output_type": "stream",
     "text": [
      "295it [00:27, 10.63it/s]\n",
      "1it [00:00,  6.17it/s]"
     ]
    },
    {
     "name": "stdout",
     "output_type": "stream",
     "text": [
      "[252/300] Train Acc: 0.786634 Loss: 0.671934 | Val Acc: 0.772430 loss: 0.704149\n"
     ]
    },
    {
     "name": "stderr",
     "output_type": "stream",
     "text": [
      "295it [00:27, 10.59it/s]\n",
      "1it [00:00,  6.02it/s]"
     ]
    },
    {
     "name": "stdout",
     "output_type": "stream",
     "text": [
      "[253/300] Train Acc: 0.786571 Loss: 0.671734 | Val Acc: 0.772796 loss: 0.703867\n"
     ]
    },
    {
     "name": "stderr",
     "output_type": "stream",
     "text": [
      "295it [00:26, 10.94it/s]\n",
      "1it [00:00,  5.38it/s]"
     ]
    },
    {
     "name": "stdout",
     "output_type": "stream",
     "text": [
      "[254/300] Train Acc: 0.787096 Loss: 0.671719 | Val Acc: 0.774991 loss: 0.700746\n"
     ]
    },
    {
     "name": "stderr",
     "output_type": "stream",
     "text": [
      "295it [00:29,  9.90it/s]\n",
      "0it [00:00, ?it/s]"
     ]
    },
    {
     "name": "stdout",
     "output_type": "stream",
     "text": [
      "[255/300] Train Acc: 0.786493 Loss: 0.672233 | Val Acc: 0.773609 loss: 0.704278\n"
     ]
    },
    {
     "name": "stderr",
     "output_type": "stream",
     "text": [
      "295it [00:29,  9.97it/s]\n",
      "1it [00:00,  6.35it/s]"
     ]
    },
    {
     "name": "stdout",
     "output_type": "stream",
     "text": [
      "[256/300] Train Acc: 0.786955 Loss: 0.671608 | Val Acc: 0.773731 loss: 0.697460\n"
     ]
    },
    {
     "name": "stderr",
     "output_type": "stream",
     "text": [
      "295it [00:27, 10.66it/s]\n",
      "1it [00:00,  6.01it/s]"
     ]
    },
    {
     "name": "stdout",
     "output_type": "stream",
     "text": [
      "[257/300] Train Acc: 0.786603 Loss: 0.670940 | Val Acc: 0.773405 loss: 0.706892\n"
     ]
    },
    {
     "name": "stderr",
     "output_type": "stream",
     "text": [
      "295it [00:26, 11.04it/s]\n",
      "1it [00:00,  6.63it/s]"
     ]
    },
    {
     "name": "stdout",
     "output_type": "stream",
     "text": [
      "[258/300] Train Acc: 0.786882 Loss: 0.672106 | Val Acc: 0.773121 loss: 0.707300\n"
     ]
    },
    {
     "name": "stderr",
     "output_type": "stream",
     "text": [
      "295it [00:25, 11.51it/s]\n",
      "0it [00:00, ?it/s]"
     ]
    },
    {
     "name": "stdout",
     "output_type": "stream",
     "text": [
      "[259/300] Train Acc: 0.786805 Loss: 0.671823 | Val Acc: 0.775967 loss: 0.701671\n",
      "saving model with acc 0.776\n"
     ]
    },
    {
     "name": "stderr",
     "output_type": "stream",
     "text": [
      "295it [00:25, 11.75it/s]\n",
      "1it [00:00,  6.33it/s]"
     ]
    },
    {
     "name": "stdout",
     "output_type": "stream",
     "text": [
      "[260/300] Train Acc: 0.787140 Loss: 0.671565 | Val Acc: 0.771739 loss: 0.704590\n"
     ]
    },
    {
     "name": "stderr",
     "output_type": "stream",
     "text": [
      "295it [00:25, 11.53it/s]\n",
      "1it [00:00,  6.43it/s]"
     ]
    },
    {
     "name": "stdout",
     "output_type": "stream",
     "text": [
      "[261/300] Train Acc: 0.786860 Loss: 0.672177 | Val Acc: 0.775804 loss: 0.707519\n"
     ]
    },
    {
     "name": "stderr",
     "output_type": "stream",
     "text": [
      "295it [00:25, 11.77it/s]\n",
      "1it [00:00,  6.36it/s]"
     ]
    },
    {
     "name": "stdout",
     "output_type": "stream",
     "text": [
      "[262/300] Train Acc: 0.787514 Loss: 0.670006 | Val Acc: 0.771413 loss: 0.702059\n"
     ]
    },
    {
     "name": "stderr",
     "output_type": "stream",
     "text": [
      "295it [00:25, 11.50it/s]\n",
      "1it [00:00,  6.44it/s]"
     ]
    },
    {
     "name": "stdout",
     "output_type": "stream",
     "text": [
      "[263/300] Train Acc: 0.787256 Loss: 0.670845 | Val Acc: 0.769991 loss: 0.706384\n"
     ]
    },
    {
     "name": "stderr",
     "output_type": "stream",
     "text": [
      "295it [00:25, 11.76it/s]\n",
      "1it [00:00,  5.26it/s]"
     ]
    },
    {
     "name": "stdout",
     "output_type": "stream",
     "text": [
      "[264/300] Train Acc: 0.787042 Loss: 0.671019 | Val Acc: 0.770031 loss: 0.718096\n"
     ]
    },
    {
     "name": "stderr",
     "output_type": "stream",
     "text": [
      "295it [00:25, 11.51it/s]\n",
      "1it [00:00,  6.40it/s]"
     ]
    },
    {
     "name": "stdout",
     "output_type": "stream",
     "text": [
      "[265/300] Train Acc: 0.787437 Loss: 0.669930 | Val Acc: 0.771698 loss: 0.699832\n"
     ]
    },
    {
     "name": "stderr",
     "output_type": "stream",
     "text": [
      "295it [00:25, 11.79it/s]\n",
      "1it [00:00,  6.26it/s]"
     ]
    },
    {
     "name": "stdout",
     "output_type": "stream",
     "text": [
      "[266/300] Train Acc: 0.786839 Loss: 0.670715 | Val Acc: 0.772958 loss: 0.713636\n"
     ]
    },
    {
     "name": "stderr",
     "output_type": "stream",
     "text": [
      "295it [00:25, 11.52it/s]\n",
      "1it [00:00,  6.44it/s]"
     ]
    },
    {
     "name": "stdout",
     "output_type": "stream",
     "text": [
      "[267/300] Train Acc: 0.787204 Loss: 0.670047 | Val Acc: 0.772105 loss: 0.713688\n"
     ]
    },
    {
     "name": "stderr",
     "output_type": "stream",
     "text": [
      "295it [00:25, 11.45it/s]\n",
      "0it [00:00, ?it/s]"
     ]
    },
    {
     "name": "stdout",
     "output_type": "stream",
     "text": [
      "[268/300] Train Acc: 0.787098 Loss: 0.671804 | Val Acc: 0.773202 loss: 0.722341\n"
     ]
    },
    {
     "name": "stderr",
     "output_type": "stream",
     "text": [
      "295it [00:27, 10.79it/s]\n",
      "1it [00:00,  6.91it/s]"
     ]
    },
    {
     "name": "stdout",
     "output_type": "stream",
     "text": [
      "[269/300] Train Acc: 0.787795 Loss: 0.669472 | Val Acc: 0.772145 loss: 0.715099\n"
     ]
    },
    {
     "name": "stderr",
     "output_type": "stream",
     "text": [
      "295it [00:25, 11.72it/s]\n",
      "1it [00:00,  6.33it/s]"
     ]
    },
    {
     "name": "stdout",
     "output_type": "stream",
     "text": [
      "[270/300] Train Acc: 0.787350 Loss: 0.669274 | Val Acc: 0.775357 loss: 0.708018\n"
     ]
    },
    {
     "name": "stderr",
     "output_type": "stream",
     "text": [
      "295it [00:25, 11.56it/s]\n",
      "1it [00:00,  6.36it/s]"
     ]
    },
    {
     "name": "stdout",
     "output_type": "stream",
     "text": [
      "[271/300] Train Acc: 0.787085 Loss: 0.670826 | Val Acc: 0.769096 loss: 0.728333\n"
     ]
    },
    {
     "name": "stderr",
     "output_type": "stream",
     "text": [
      "295it [00:25, 11.60it/s]\n",
      "1it [00:00,  6.34it/s]"
     ]
    },
    {
     "name": "stdout",
     "output_type": "stream",
     "text": [
      "[272/300] Train Acc: 0.787211 Loss: 0.669480 | Val Acc: 0.771007 loss: 0.724231\n"
     ]
    },
    {
     "name": "stderr",
     "output_type": "stream",
     "text": [
      "295it [00:25, 11.53it/s]\n",
      "1it [00:00,  6.40it/s]"
     ]
    },
    {
     "name": "stdout",
     "output_type": "stream",
     "text": [
      "[273/300] Train Acc: 0.787558 Loss: 0.669804 | Val Acc: 0.774178 loss: 0.714286\n"
     ]
    },
    {
     "name": "stderr",
     "output_type": "stream",
     "text": [
      "295it [00:25, 11.62it/s]\n",
      "1it [00:00,  6.22it/s]"
     ]
    },
    {
     "name": "stdout",
     "output_type": "stream",
     "text": [
      "[274/300] Train Acc: 0.787357 Loss: 0.669839 | Val Acc: 0.774910 loss: 0.699815\n"
     ]
    },
    {
     "name": "stderr",
     "output_type": "stream",
     "text": [
      "295it [00:25, 11.60it/s]\n",
      "1it [00:00,  6.44it/s]"
     ]
    },
    {
     "name": "stdout",
     "output_type": "stream",
     "text": [
      "[275/300] Train Acc: 0.786987 Loss: 0.670183 | Val Acc: 0.769747 loss: 0.708008\n"
     ]
    },
    {
     "name": "stderr",
     "output_type": "stream",
     "text": [
      "295it [00:25, 11.57it/s]\n",
      "1it [00:00,  6.21it/s]"
     ]
    },
    {
     "name": "stdout",
     "output_type": "stream",
     "text": [
      "[276/300] Train Acc: 0.787509 Loss: 0.669212 | Val Acc: 0.771820 loss: 0.721541\n"
     ]
    },
    {
     "name": "stderr",
     "output_type": "stream",
     "text": [
      "295it [00:25, 11.63it/s]\n",
      "1it [00:00,  5.06it/s]"
     ]
    },
    {
     "name": "stdout",
     "output_type": "stream",
     "text": [
      "[277/300] Train Acc: 0.787787 Loss: 0.668635 | Val Acc: 0.771739 loss: 0.705923\n"
     ]
    },
    {
     "name": "stderr",
     "output_type": "stream",
     "text": [
      "295it [00:25, 11.56it/s]\n",
      "1it [00:00,  6.37it/s]"
     ]
    },
    {
     "name": "stdout",
     "output_type": "stream",
     "text": [
      "[278/300] Train Acc: 0.787510 Loss: 0.668762 | Val Acc: 0.770844 loss: 0.706735\n"
     ]
    },
    {
     "name": "stderr",
     "output_type": "stream",
     "text": [
      "295it [00:25, 11.64it/s]\n",
      "1it [00:00,  6.42it/s]"
     ]
    },
    {
     "name": "stdout",
     "output_type": "stream",
     "text": [
      "[279/300] Train Acc: 0.787434 Loss: 0.669111 | Val Acc: 0.773568 loss: 0.722669\n"
     ]
    },
    {
     "name": "stderr",
     "output_type": "stream",
     "text": [
      "295it [00:25, 11.52it/s]\n",
      "1it [00:00,  6.39it/s]"
     ]
    },
    {
     "name": "stdout",
     "output_type": "stream",
     "text": [
      "[280/300] Train Acc: 0.787867 Loss: 0.668646 | Val Acc: 0.773243 loss: 0.711780\n"
     ]
    },
    {
     "name": "stderr",
     "output_type": "stream",
     "text": [
      "295it [00:25, 11.73it/s]\n",
      "1it [00:00,  5.23it/s]"
     ]
    },
    {
     "name": "stdout",
     "output_type": "stream",
     "text": [
      "[281/300] Train Acc: 0.787587 Loss: 0.668502 | Val Acc: 0.770722 loss: 0.718781\n"
     ]
    },
    {
     "name": "stderr",
     "output_type": "stream",
     "text": [
      "295it [00:25, 11.47it/s]\n",
      "1it [00:00,  6.73it/s]"
     ]
    },
    {
     "name": "stdout",
     "output_type": "stream",
     "text": [
      "[282/300] Train Acc: 0.788135 Loss: 0.667815 | Val Acc: 0.770519 loss: 0.713884\n"
     ]
    },
    {
     "name": "stderr",
     "output_type": "stream",
     "text": [
      "295it [00:25, 11.73it/s]\n",
      "1it [00:00,  6.19it/s]"
     ]
    },
    {
     "name": "stdout",
     "output_type": "stream",
     "text": [
      "[283/300] Train Acc: 0.787694 Loss: 0.668084 | Val Acc: 0.772999 loss: 0.708133\n"
     ]
    },
    {
     "name": "stderr",
     "output_type": "stream",
     "text": [
      "295it [00:25, 11.47it/s]\n",
      "1it [00:00,  6.28it/s]"
     ]
    },
    {
     "name": "stdout",
     "output_type": "stream",
     "text": [
      "[284/300] Train Acc: 0.788003 Loss: 0.667995 | Val Acc: 0.770235 loss: 0.710521\n"
     ]
    },
    {
     "name": "stderr",
     "output_type": "stream",
     "text": [
      "295it [00:25, 11.69it/s]\n",
      "1it [00:00,  6.17it/s]"
     ]
    },
    {
     "name": "stdout",
     "output_type": "stream",
     "text": [
      "[285/300] Train Acc: 0.787958 Loss: 0.668418 | Val Acc: 0.770844 loss: 0.719994\n"
     ]
    },
    {
     "name": "stderr",
     "output_type": "stream",
     "text": [
      "295it [00:25, 11.42it/s]\n",
      "1it [00:00,  6.34it/s]"
     ]
    },
    {
     "name": "stdout",
     "output_type": "stream",
     "text": [
      "[286/300] Train Acc: 0.787995 Loss: 0.668279 | Val Acc: 0.771617 loss: 0.714063\n"
     ]
    },
    {
     "name": "stderr",
     "output_type": "stream",
     "text": [
      "295it [00:25, 11.68it/s]\n",
      "1it [00:00,  6.31it/s]"
     ]
    },
    {
     "name": "stdout",
     "output_type": "stream",
     "text": [
      "[287/300] Train Acc: 0.788139 Loss: 0.667581 | Val Acc: 0.772755 loss: 0.717333\n"
     ]
    },
    {
     "name": "stderr",
     "output_type": "stream",
     "text": [
      "295it [00:25, 11.45it/s]\n",
      "1it [00:00,  6.50it/s]"
     ]
    },
    {
     "name": "stdout",
     "output_type": "stream",
     "text": [
      "[288/300] Train Acc: 0.788010 Loss: 0.666911 | Val Acc: 0.772064 loss: 0.709689\n"
     ]
    },
    {
     "name": "stderr",
     "output_type": "stream",
     "text": [
      "295it [00:25, 11.74it/s]\n",
      "1it [00:00,  6.47it/s]"
     ]
    },
    {
     "name": "stdout",
     "output_type": "stream",
     "text": [
      "[289/300] Train Acc: 0.787906 Loss: 0.667476 | Val Acc: 0.773324 loss: 0.709411\n"
     ]
    },
    {
     "name": "stderr",
     "output_type": "stream",
     "text": [
      "295it [00:25, 11.43it/s]\n",
      "1it [00:00,  5.31it/s]"
     ]
    },
    {
     "name": "stdout",
     "output_type": "stream",
     "text": [
      "[290/300] Train Acc: 0.788030 Loss: 0.667545 | Val Acc: 0.770316 loss: 0.726317\n"
     ]
    },
    {
     "name": "stderr",
     "output_type": "stream",
     "text": [
      "295it [00:25, 11.64it/s]\n",
      "1it [00:00,  6.46it/s]"
     ]
    },
    {
     "name": "stdout",
     "output_type": "stream",
     "text": [
      "[291/300] Train Acc: 0.787757 Loss: 0.667528 | Val Acc: 0.772999 loss: 0.702550\n"
     ]
    },
    {
     "name": "stderr",
     "output_type": "stream",
     "text": [
      "295it [00:25, 11.42it/s]\n",
      "1it [00:00,  6.42it/s]"
     ]
    },
    {
     "name": "stdout",
     "output_type": "stream",
     "text": [
      "[292/300] Train Acc: 0.788164 Loss: 0.666574 | Val Acc: 0.774625 loss: 0.710357\n"
     ]
    },
    {
     "name": "stderr",
     "output_type": "stream",
     "text": [
      "295it [00:25, 11.73it/s]\n",
      "1it [00:00,  6.34it/s]"
     ]
    },
    {
     "name": "stdout",
     "output_type": "stream",
     "text": [
      "[293/300] Train Acc: 0.787718 Loss: 0.667196 | Val Acc: 0.774544 loss: 0.711436\n"
     ]
    },
    {
     "name": "stderr",
     "output_type": "stream",
     "text": [
      "295it [00:25, 11.49it/s]\n",
      "1it [00:00,  5.27it/s]"
     ]
    },
    {
     "name": "stdout",
     "output_type": "stream",
     "text": [
      "[294/300] Train Acc: 0.788541 Loss: 0.666157 | Val Acc: 0.773812 loss: 0.712873\n"
     ]
    },
    {
     "name": "stderr",
     "output_type": "stream",
     "text": [
      "295it [00:25, 11.75it/s]\n",
      "1it [00:00,  6.72it/s]"
     ]
    },
    {
     "name": "stdout",
     "output_type": "stream",
     "text": [
      "[295/300] Train Acc: 0.788140 Loss: 0.667156 | Val Acc: 0.774097 loss: 0.703785\n"
     ]
    },
    {
     "name": "stderr",
     "output_type": "stream",
     "text": [
      "295it [00:25, 11.47it/s]\n",
      "1it [00:00,  6.42it/s]"
     ]
    },
    {
     "name": "stdout",
     "output_type": "stream",
     "text": [
      "[296/300] Train Acc: 0.788533 Loss: 0.666319 | Val Acc: 0.773365 loss: 0.715238\n"
     ]
    },
    {
     "name": "stderr",
     "output_type": "stream",
     "text": [
      "295it [00:25, 11.74it/s]\n",
      "1it [00:00,  6.32it/s]"
     ]
    },
    {
     "name": "stdout",
     "output_type": "stream",
     "text": [
      "[297/300] Train Acc: 0.788396 Loss: 0.666127 | Val Acc: 0.774300 loss: 0.709106\n"
     ]
    },
    {
     "name": "stderr",
     "output_type": "stream",
     "text": [
      "295it [00:25, 11.53it/s]\n",
      "1it [00:00,  6.41it/s]"
     ]
    },
    {
     "name": "stdout",
     "output_type": "stream",
     "text": [
      "[298/300] Train Acc: 0.788590 Loss: 0.665499 | Val Acc: 0.773487 loss: 0.712542\n"
     ]
    },
    {
     "name": "stderr",
     "output_type": "stream",
     "text": [
      "295it [00:25, 11.73it/s]\n",
      "1it [00:00,  6.32it/s]"
     ]
    },
    {
     "name": "stdout",
     "output_type": "stream",
     "text": [
      "[299/300] Train Acc: 0.788381 Loss: 0.667393 | Val Acc: 0.771942 loss: 0.706626\n"
     ]
    },
    {
     "name": "stderr",
     "output_type": "stream",
     "text": [
      "295it [00:25, 11.52it/s]\n"
     ]
    },
    {
     "name": "stdout",
     "output_type": "stream",
     "text": [
      "[300/300] Train Acc: 0.788171 Loss: 0.666785 | Val Acc: 0.772511 loss: 0.697316\n"
     ]
    }
   ],
   "source": [
    "# start training\n",
    "import tqdm\n",
    "\n",
    "best_acc = 0.0\n",
    "for epoch in range(num_epoch):\n",
    "    train_acc = 0.0\n",
    "    train_loss = 0.0\n",
    "    val_acc = 0.0\n",
    "    val_loss = 0.0\n",
    "\n",
    "    # training\n",
    "    model.train() # set the model to training mode\n",
    "    for i, data in tqdm.tqdm(enumerate(train_loader)):\n",
    "        inputs, labels = data\n",
    "        inputs, labels = inputs.to(device), labels.to(device)\n",
    "        optimizer.zero_grad() \n",
    "        outputs = model(inputs) \n",
    "        batch_loss = criterion(outputs, labels)\n",
    "        _, train_pred = torch.max(outputs, 1) # get the index of the class with the highest probability\n",
    "        batch_loss.backward() \n",
    "        optimizer.step() \n",
    "\n",
    "        train_acc += (train_pred.cpu() == labels.cpu()).sum().item()\n",
    "        train_loss += batch_loss.item()\n",
    "\n",
    "    # validation\n",
    "    if len(val_set) > 0:\n",
    "        model.eval() # set the model to evaluation mode\n",
    "        with torch.no_grad():\n",
    "            for i, data in enumerate(val_loader):\n",
    "                inputs, labels = data\n",
    "                inputs, labels = inputs.to(device), labels.to(device)\n",
    "                outputs = model(inputs)\n",
    "                batch_loss = criterion(outputs, labels) \n",
    "                _, val_pred = torch.max(outputs, 1) \n",
    "            \n",
    "                val_acc += (val_pred.cpu() == labels.cpu()).sum().item() # get the index of the class with the highest probability\n",
    "                val_loss += batch_loss.item()\n",
    "\n",
    "            print('[{:03d}/{:03d}] Train Acc: {:3.6f} Loss: {:3.6f} | Val Acc: {:3.6f} loss: {:3.6f}'.format(\n",
    "                epoch + 1, num_epoch, train_acc/len(train_set), train_loss/len(train_loader), val_acc/len(val_set), val_loss/len(val_loader)\n",
    "            ))\n",
    "\n",
    "            # if the model improves, save a checkpoint at this epoch\n",
    "            if val_acc > best_acc:\n",
    "                best_acc = val_acc\n",
    "                torch.save(model.state_dict(), model_path)\n",
    "                print('saving model with acc {:.3f}'.format(best_acc/len(val_set)))\n",
    "    else:\n",
    "        print('[{:03d}/{:03d}] Train Acc: {:3.6f} Loss: {:3.6f}'.format(\n",
    "            epoch + 1, num_epoch, train_acc/len(train_set), train_loss/len(train_loader)\n",
    "        ))\n",
    "\n",
    "# if not validating, save the last epoch\n",
    "if len(val_set) == 0:\n",
    "    torch.save(model.state_dict(), model_path)\n",
    "    print('saving model at last epoch')\n"
   ]
  },
  {
   "cell_type": "markdown",
   "metadata": {
    "id": "1Hi7jTn3PX-m"
   },
   "source": [
    "## Testing"
   ]
  },
  {
   "cell_type": "markdown",
   "metadata": {
    "id": "NfUECMFCn5VG"
   },
   "source": [
    "Create a testing dataset, and load model from the saved checkpoint."
   ]
  },
  {
   "cell_type": "code",
   "execution_count": 11,
   "metadata": {
    "colab": {
     "base_uri": "https://localhost:8080/"
    },
    "id": "1PKjtAScPWtr",
    "outputId": "c42b2678-0cab-457f-ee80-f0260e598a73"
   },
   "outputs": [
    {
     "data": {
      "text/plain": [
       "<All keys matched successfully>"
      ]
     },
     "execution_count": 11,
     "metadata": {},
     "output_type": "execute_result"
    }
   ],
   "source": [
    "# create testing dataset\n",
    "test_set = TIMITDataset(test, None)\n",
    "test_loader = DataLoader(test_set, batch_size=BATCH_SIZE, shuffle=False)\n",
    "\n",
    "# create model and load weights from checkpoint\n",
    "model = Classifier().to(device)\n",
    "model.load_state_dict(torch.load(model_path))"
   ]
  },
  {
   "cell_type": "markdown",
   "metadata": {
    "id": "940TtCCdoYd0"
   },
   "source": [
    "Make prediction."
   ]
  },
  {
   "cell_type": "code",
   "execution_count": 12,
   "metadata": {
    "id": "84HU5GGjPqR0"
   },
   "outputs": [],
   "source": [
    "predict = []\n",
    "model.eval() # set the model to evaluation mode\n",
    "with torch.no_grad():\n",
    "    for i, data in enumerate(test_loader):\n",
    "        inputs = data\n",
    "        inputs = inputs.to(device)\n",
    "        outputs = model(inputs)\n",
    "        _, test_pred = torch.max(outputs, 1) # get the index of the class with the highest probability\n",
    "\n",
    "        for y in test_pred.cpu().numpy():\n",
    "            predict.append(y)"
   ]
  },
  {
   "cell_type": "markdown",
   "metadata": {
    "id": "AWDf_C-omElb"
   },
   "source": [
    "Write prediction to a CSV file.\n",
    "\n",
    "After finish running this block, download the file `prediction.csv` from the files section on the left-hand side and submit it to Kaggle."
   ]
  },
  {
   "cell_type": "code",
   "execution_count": 13,
   "metadata": {
    "id": "GuljYSPHcZir"
   },
   "outputs": [],
   "source": [
    "with open('prediction.csv', 'w') as f:\n",
    "    f.write('Id,Class\\n')\n",
    "    for i, y in enumerate(predict):\n",
    "        f.write('{},{}\\n'.format(i, y))"
   ]
  }
 ],
 "metadata": {
  "accelerator": "GPU",
  "colab": {
   "collapsed_sections": [],
   "name": "ml2021spring-hw2.1.ipynb",
   "provenance": [],
   "toc_visible": true
  },
  "kernelspec": {
   "display_name": "Python 3",
   "language": "python",
   "name": "python3"
  },
  "language_info": {
   "codemirror_mode": {
    "name": "ipython",
    "version": 3
   },
   "file_extension": ".py",
   "mimetype": "text/x-python",
   "name": "python",
   "nbconvert_exporter": "python",
   "pygments_lexer": "ipython3",
   "version": "3.6.5"
  }
 },
 "nbformat": 4,
 "nbformat_minor": 2
}
