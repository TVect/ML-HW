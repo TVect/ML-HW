{
 "cells": [
  {
   "cell_type": "markdown",
   "metadata": {},
   "source": [
    "In class, we taught the soft-margin support vector machine as follows.\n",
    "$$\n",
    "\\begin{align*}\n",
    "(P_{1}) \\ \\min \\limits_{w, b, \\xi} & \\ \\frac {1} {2} w^{T} w + C \\sum_{n=1}^{N} \\xi_{n} \\\\\n",
    "s.t. & \\ y_{n}(w_{T}x_{n}+b) \\geq 1 - \\xi_{n} \\\\\n",
    "& \\ \\xi_{n} \\geq 0\n",
    "\\end{align*}\n",
    "$$\n",
    "\n",
    "In some extended SVM formulations, it is demanded to given a specific margin goal $ 0 < \\rho_{n} \\leq 1 $ and an importance value of $ u_{n} $  per example. \n",
    "\n",
    "That is, we want to solve\n",
    "$$\n",
    "\\begin{align*}\n",
    "(P_{1}') \\ \\min \\limits_{w, b, \\xi} & \\ \\frac {1} {2} w^{T} w + C \\sum_{n=1}^{N} u_{n} \\xi_{n} \\\\\n",
    "s.t. & \\ y_{n}(w_{T}x_{n}+b) \\geq \\rho_{n} - \\xi_{n} \\\\\n",
    "& \\ \\xi_{n} \\geq 0\n",
    "\\end{align*}\n",
    "$$\n"
   ]
  },
  {
   "cell_type": "markdown",
   "metadata": {},
   "source": [
    "**5.** Let $ \\alpha_{n} $ be the Lagrange multipliers for the $n$-th constraint in $(P_{1}')$. \n",
    "\n",
    "Following the derivation of the dual SVM in class, write down $(P_{1}')$ as an equivalent optimization problem?"
   ]
  },
  {
   "cell_type": "markdown",
   "metadata": {},
   "source": [
    "**6.** Using (assuming) strong duality, the solution to $(P_{1}')$ would be the same as the Lagrange dual problem\n",
    "$$\n",
    "\\max \\limits_{\\alpha_{n} \\geq 0} \\ \\min \\limits_{b, w, \\xi} \\ L((b, w, \\xi), \\alpha)\n",
    "$$\n",
    "Use the KKT conditions to simplify the Lagrange dual problem, and obtain a dual problem that\n",
    "involves only $ \\alpha_{n} $."
   ]
  },
  {
   "cell_type": "markdown",
   "metadata": {},
   "source": [
    "**Solution: **\n",
    "\n",
    "$$\n",
    "L((b, w, \\xi), \\alpha) = \\frac{1}{2}w^{T}w + C \\sum \\limits_{n=1}^{N} u_{n} \\xi_{n} - \\sum \\limits_{n=1}^{N} \\alpha_{n}(y_{n}(w^{T}x_{n} + b) - \\rho_{n} + \\xi_{n}) - \\sum \\limits_{n=1}^{N} \\beta_{n} \\xi_{n}\n",
    "$$\n",
    "\n",
    "Using (assuming) strong duality:\n",
    "\n",
    "$$\n",
    "\\begin{align*}\n",
    "\\frac{\\partial L}{\\partial b} & = - \\sum \\limits_{n=1}^{N} \\alpha_{n} y_{n} = 0 \\\\\n",
    "\\frac{\\partial L}{\\partial w} & = w - \\sum \\limits_{n=1}^{N} \\alpha_{n} y_{n} x_{n} = 0 \\\\\n",
    "\\frac{\\partial L}{\\partial \\xi} & = C u - \\alpha - \\beta = 0 \\\\\n",
    "\\end{align*}\n",
    "$$\n",
    "\n",
    "So we can simplify the Lagrange dual problem:\n",
    "$$\n",
    "\\max \\limits_{\\alpha_{n} \\geq 0} \\ - \\frac{1}{2} w^{T}w + \\sum \\limits_{n=1}^{N} \\alpha_{n} \\rho_{n}\n",
    "$$\n"
   ]
  },
  {
   "cell_type": "markdown",
   "metadata": {},
   "source": [
    "**7.** Assume that $(b_{*}'; w_{*}' )$ is the optimal solution of solving $(P_{1}')$ with all $\\rho_{n} = 0.25$ and $u_{n} = 1$. \n",
    "\n",
    "Express the optimal solution of $(P_{1})$ in terms of $b_{*}'$ and $w_{*}'$. Prove your answer."
   ]
  },
  {
   "cell_type": "markdown",
   "metadata": {},
   "source": [
    "<font color=red>**怎么表示两个问题之间解的关系？？？**</font> \n",
    "\n",
    "如果 $P$ 中的 $C$ 是 $P'$ 中 $C$ 的 $4$ 倍，那么 $P$ 的最优解应该有 $(b_{*}, w_{*}) = 4 * (b_{*}', w_{*}')$  "
   ]
  }
 ],
 "metadata": {
  "kernelspec": {
   "display_name": "Python 3",
   "language": "python",
   "name": "python3"
  },
  "language_info": {
   "codemirror_mode": {
    "name": "ipython",
    "version": 3
   },
   "file_extension": ".py",
   "mimetype": "text/x-python",
   "name": "python",
   "nbconvert_exporter": "python",
   "pygments_lexer": "ipython3",
   "version": "3.6.1"
  }
 },
 "nbformat": 4,
 "nbformat_minor": 2
}
