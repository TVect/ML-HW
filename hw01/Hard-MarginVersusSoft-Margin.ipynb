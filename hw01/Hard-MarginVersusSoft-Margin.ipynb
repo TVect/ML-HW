{
 "cells": [
  {
   "cell_type": "markdown",
   "metadata": {},
   "source": [
    "**8.** Assume that the data set is separable in the $Z$ space. That is, hard-margin SVM has an optimal solution of some vector $\\alpha_{*}$. \n",
    "\n",
    "Prove that if $ C \\geq \\max \\limits_{1 \\leq n \\leq N} \\alpha_{n}^{*} $, the vector $ \\alpha_{n}^{*}$ is also an optimal solution to the soft-margin SVM."
   ]
  },
  {
   "cell_type": "markdown",
   "metadata": {},
   "source": [
    "**Solution:**\n",
    "if $ C \\geq \\max \\limits_{1 \\leq n \\leq N} \\alpha_{n}^{*} $, the vector $ \\alpha_{n}^{*}$ also satisfies the constraint condition of Soft-Margin Problem, so is an optimal solution."
   ]
  },
  {
   "cell_type": "markdown",
   "metadata": {},
   "source": [
    "## Operation of Kernels\n",
    "**9.** Let $K_{1}(x; x_{0}) = \\phi_{1}(x)^{T} \\phi_{1}(x')$ be a valid kernel. Which of the followings are always valid kernels,\n",
    "assuming that $0 < K_{1}(x; x_{0}) < 2$ ?\n",
    "\n",
    "   [a]  $ K(x; x_{0}) = (2 − K_{1}(x; x_{0}))^{1} $\n",
    "\n",
    "   [b]  $ K(x; x_{0}) = (2 − K_{1}(x; x_{0}))^{0} $\n",
    "\n",
    "   [c]  $ K(x; x_{0}) = (2 − K_{1}(x; x_{0}))^{-1} $\n",
    "\n",
    "   [d]  $ K(x; x_{0}) = (2 − K_{1}(x; x_{0}))^{-2} $\n",
    "\n",
    "(+ proof of your choices)"
   ]
  },
  {
   "cell_type": "markdown",
   "metadata": {},
   "source": [
    "**Solution:**\n",
    "可以参考PRML中 Kernel 的性质\n",
    "\n",
    "[a] is not a valid kernel. Consider $K_{1}(x_{1}, x_{1}) = K_{1}(x_{2}, x_{2}) = 1, K_{1}(x_{1}, x_{2}) = 0$\n",
    "\n",
    "[b] is right.\n",
    "\n",
    "[c] is a valid kernel. Consider $ \\frac{1}{1-K} = 1 + K + K^{2} + ...$ is a valid kernel, if $K$ is a valid kernel. \n",
    "\n",
    "[d] is a valid kernel, because $K_{d} = K_{c}^{2}$ and $K_{c}$ is a valid kernel."
   ]
  },
  {
   "cell_type": "markdown",
   "metadata": {},
   "source": [
    "**10.** For a given valid kernel $K$, consider a new kernel $\\tilde{K}(x; x_{0}) = pK(x; x_{0})$ for some $p > 0$. \n",
    "\n",
    "Prove or disprove that for the dual of soft-margin support vector machine, using $\\tilde{K}$ along with a new $\\tilde{C} = \\frac{C}{p} $\n",
    "instead of $K$ with the original $C$ leads to an equivalent $g_{svm}$ classifier"
   ]
  },
  {
   "cell_type": "markdown",
   "metadata": {},
   "source": [
    "**Solution:**\n",
    "$$\n",
    "\\begin{align*}\n",
    "\\min \\ \\tilde{L}(\\alpha) &= \\frac{1}{2} \\sum \\limits_{i, j} \\alpha_{i} \\alpha_{j} y_{i} y_{j} \\tilde{K}(x_{i}, x_{j}) - \\sum \\limits_{i} \\alpha_{i} \\\\\n",
    "&= \\frac{1}{2} \\sum \\limits_{i, j} \\alpha_{i} \\alpha_{j} y_{i} y_{j} p K(x_{i}, x_{j}) - \\sum \\limits_{i} \\alpha_{i} \\\\\n",
    "&= \\frac{1}{p} (\\frac{1}{2} \\sum \\limits_{i, j} \\alpha_{i} p \\alpha_{j} p y_{i} y_{j} K(x_{i}, x_{j}) - \\sum \\limits_{i} \\alpha_{i} p) \\\\\n",
    "s.t. &\\sum \\alpha_{i} p y_{i} = 0 \\\\\n",
    "&0 \\leq \\alpha_{i}p \\leq C\n",
    "\\end{align*}\n",
    "$$\n",
    "\n",
    "this will lead to an equivalent $g_{svm}$ classifier"
   ]
  },
  {
   "cell_type": "markdown",
   "metadata": {},
   "source": [
    "## Experiments with Soft-Margin Support Vector Machine\n",
    "For Questions 11 to 16, we are going to experiment with a real-world data set. Download the processed\n",
    "US Postal Service Zip Code data set with extracted features of intensity and symmetry for training and\n",
    "testing:\n",
    "\n",
    "    http://www.amlbook.com/data/zip/features.train\n",
    "    http://www.amlbook.com/data/zip/features.test\n",
    "\n",
    "The format of each row is\n",
    "\n",
    "    digit intensity symmetry\n",
    "\n",
    "We will consider binary classification problems of the form \"one of the digits\" (as the positive class) versus \"other digits\" (as the negative class).\n",
    "The training set contains thousands of examples, and some quadratic programming packages cannot handle this size. We recommend that you consider the LIBSVM package\n",
    "\n",
    "    http://www.csie.ntu.edu.tw/~cjlin/libsvm/\n",
    "\n",
    "Regardless of the package that you choose to use, please read the manual of the package carefully to make sure that you are indeed solving the soft-margin support vector machine taught in class like the dual formulation below:\n",
    "\n",
    "$$\n",
    "\\begin{align}\n",
    "\\min \\ &\\frac{1}{2} \\sum \\limits_{n=1}^{N} \\sum \\limits_{m=1}^{N} \\alpha_{n} \\alpha_{m} y_{n} y_{m} K(x_{n}, x_{m}) - \\sum \\limits_{n=1}^{N} \\alpha_{n} \\\\\n",
    "s.t. \\ &\\sum \\limits_{n=1}^{N} y_{n} \\alpha_{n} = 0 \\\\\n",
    "\\ \\ &0 \\leq \\alpha_{n} \\leq C \\ \\ n=1, ..., N \\\\\n",
    "\\end{align}\n",
    "$$\n",
    "\n",
    "In the following questions, please use the 0/1 error for evaluating $E_{in}$, $E_{val}$ and $E_{out}$ (through the test set). Some practical remarks include:\n",
    "\n",
    "(i) Please tell your chosen package to not automatically scale the data for you, lest you should change the effective kernel and get different results.\n",
    "\n",
    "(ii) It is your responsibility to check whether your chosen package solves the designated formulation with enough numerical precision. Please read the manual of your chosen package for software parameters whose values affect the outcome —— any ML practitioner needs to deal with this kind of added uncertainty."
   ]
  },
  {
   "cell_type": "markdown",
   "metadata": {},
   "source": [
    "**11.** Consider the linear soft-margin SVM. That is, either solve the primal formulation of soft-margin SVM with the given $x_{n}$, or take the linear kernel $K(x_{n}; x_{m}) = x_{n}^{T} x_{m}$ in the dual formulation. \n",
    "\n",
    "For the binary classification problem of \"0\" versus \"not 0\", plot $ \\left \\| w \\right \\|$ versus $ log_{10} C \\in \\{−5; −3; −1; 1; 3\\} $. \n",
    "\n",
    "Describe your findings."
   ]
  },
  {
   "cell_type": "code",
   "execution_count": 1,
   "metadata": {},
   "outputs": [
    {
     "name": "stdout",
     "output_type": "stream",
     "text": [
      "1e-05 [[0.00138602 0.00677784]] 0.006918099852802213\n",
      "0.001 [[0.13899329 0.46144309]] 0.48192204572043185\n",
      "0.1 [[7.19382277 0.50519902]] 7.2115401998587805\n",
      "10 [[17.89916067  0.72719118]] 17.91392641419448\n",
      "1000 [[18.85640007  0.75988369]] 18.871704930686633\n"
     ]
    },
    {
     "data": {
      "text/plain": [
       "<matplotlib.text.Text at 0x7f28c53b5f60>"
      ]
     },
     "execution_count": 1,
     "metadata": {},
     "output_type": "execute_result"
    },
    {
     "data": {
      "image/png": "[encoded data removed]",
      "text/plain": [
       "<matplotlib.figure.Figure at 0x7f2900f544a8>"
      ]
     },
     "metadata": {},
     "output_type": "display_data"
    }
   ],
   "source": [
    "import numpy as np\n",
    "import pandas as pd\n",
    "from sklearn.svm import SVC\n",
    "import matplotlib.pyplot as plt\n",
    "%matplotlib inline\n",
    "\n",
    "training_file = \"./data/features.train.txt\"\n",
    "testing_file = \"./data/features.test.txt\"\n",
    "df = pd.read_table(training_file, sep=\"\\s+\", header=None, names=[\"digit\", \"intensity\", \"symmetry\"], dtype={\"digit\": np.int32})\n",
    "df2 = pd.read_table(testing_file, sep=\"\\s+\", header=None, names=[\"digit\", \"intensity\", \"symmetry\"], dtype={\"digit\": np.int32})\n",
    "\n",
    "\n",
    "log10cs = [-5, -3, -1, 1, 3]\n",
    "# log10cs = list(range(-5, 4, 1))\n",
    "norm1ws = []\n",
    "train_df = pd.concat([df[df[\"digit\"]!=0].sample((df[\"digit\"]==0).sum()), df[df[\"digit\"]==0]])\n",
    "for log10c in log10cs:\n",
    "    c = pow(10, log10c)\n",
    "    clf = SVC(C=c, kernel=\"linear\")\n",
    "    clf.fit(train_df[[\"intensity\", \"symmetry\"]], train_df[\"digit\"]==0)\n",
    "    norm1ws.append(np.sqrt(np.sum(np.square(clf.coef_))))\n",
    "    print(c, clf.coef_, norm1ws[-1])\n",
    "\n",
    "plt.plot(log10cs, norm1ws)\n",
    "plt.xlabel(\"log10c\")\n",
    "plt.ylabel(\"norm1w\")"
   ]
  },
  {
   "cell_type": "markdown",
   "metadata": {},
   "source": [
    "**12.** Consider the polynomial kernel $K(x_{n}; x_{m}) = (1 + x_{n}^{T} x_{m})^{Q}$, where $Q$ is the degree of the polynomial. \n",
    "\n",
    "With $Q = 2$, and the binary classification problem of \"8\" versus \"not 8\", plot $E_{in}$ versus $log_{10} C \\in \\{−5; −3; −1; 1; 3\\}$.\n",
    "\n",
    "Describe your findings."
   ]
  },
  {
   "cell_type": "markdown",
   "metadata": {},
   "source": [
    "**13.** Following Question 12, plot number of support vectors versus $log_{10} C \\in \\{−5; −3; −1; 1; 3\\}$ instead. \n",
    "\n",
    "Describe your findings."
   ]
  },
  {
   "cell_type": "code",
   "execution_count": 2,
   "metadata": {},
   "outputs": [
    {
     "name": "stdout",
     "output_type": "stream",
     "text": [
      "1e-05 1084 0.5156826568265682\n",
      "0.001 1058 0.5415129151291513\n",
      "0.1 936 0.6217712177121771\n",
      "10 910 0.6595940959409594\n",
      "1000 814 0.6798892988929889\n"
     ]
    },
    {
     "data": {
      "image/png": "[encoded data removed]",
      "text/plain": [
       "<matplotlib.figure.Figure at 0x7f28c53df8d0>"
      ]
     },
     "metadata": {},
     "output_type": "display_data"
    }
   ],
   "source": [
    "log10cs = [-5, -3, -1, 1, 3]\n",
    "# log10cs = list(range(-5, 4, 1))\n",
    "eins = []\n",
    "n_supps = []\n",
    "\n",
    "train_df = pd.concat([df[df[\"digit\"]!=8].sample((df[\"digit\"]==8).sum()), df[df[\"digit\"]==8]])\n",
    "\n",
    "for log10c in log10cs:\n",
    "    c = pow(10, log10c)\n",
    "    clf = SVC(C=c, kernel=\"poly\", degree=2, coef0=1, gamma=1)\n",
    "    clf.fit(train_df[[\"intensity\", \"symmetry\"]], train_df[\"digit\"]==8)\n",
    "    eins.append(clf.score(train_df[[\"intensity\", \"symmetry\"]], train_df[\"digit\"]==8))\n",
    "    n_supps.append(np.sum(clf.n_support_))\n",
    "    print(c, n_supps[-1], eins[-1])\n",
    "\n",
    "fig = plt.figure()\n",
    "\n",
    "ax1 = fig.add_subplot(111)\n",
    "ax1.plot(log10cs, eins, \"y\")\n",
    "ax1.set_ylabel(\"ein\")\n",
    "ax1.set_title(\"polynomial kernel\")\n",
    "ax1.yaxis.label.set_color(\"y\")\n",
    "\n",
    "ax2 = ax1.twinx()  # this is the important function\n",
    "ax2.plot(log10cs, n_supps, 'r')\n",
    "ax2.set_ylabel(\"n_supps\")\n",
    "ax2.set_xlabel('log10c')\n",
    "ax2.yaxis.label.set_color(\"r\")"
   ]
  },
  {
   "cell_type": "markdown",
   "metadata": {},
   "source": [
    "**14.**  Consider the Gaussian kernel $K(x_{n}; x_{m}) = exp(-\\gamma \\left \\| x_{n} - x_{m} \\right \\|^{2})$. \n",
    "\n",
    "With $\\gamma = 80$, and the binary classification problem of \"0\" versus \"not 0\".Consider values of $log_{10} C \\in \\{−3; −2; −1; 0; 1\\}$.\n",
    "\n",
    "Plot the the distance of any free support vector to the hyperplane in the (infinite-dimensional) $Z$ space versus $log_{10}C$. \n",
    "\n",
    "Describe your findings."
   ]
  },
  {
   "cell_type": "code",
   "execution_count": 3,
   "metadata": {},
   "outputs": [
    {
     "name": "stdout",
     "output_type": "stream",
     "text": [
      "0.001 [17.68183266]\n",
      "0.01 [0.17681833]\n",
      "0.1 [0.01596109]\n",
      "1 [0.0071161]\n",
      "10 [0.00199135]\n"
     ]
    },
    {
     "data": {
      "text/plain": [
       "<matplotlib.text.Text at 0x7f28c19cc550>"
      ]
     },
     "execution_count": 3,
     "metadata": {},
     "output_type": "execute_result"
    },
    {
     "data": {
      "image/png": "[encoded data removed]",
      "text/plain": [
       "<matplotlib.figure.Figure at 0x7f2900f4ec18>"
      ]
     },
     "metadata": {},
     "output_type": "display_data"
    }
   ],
   "source": [
    "from sklearn.metrics.pairwise import rbf_kernel\n",
    "\n",
    "log10cs = [-3, -2, -1, 0, 1]\n",
    "margins = []\n",
    "\n",
    "# 特征空间的margin计算方式???\n",
    "def rbf_margin(clf):\n",
    "    # print(clf.dual_coef_)\n",
    "    return clf.dual_coef_.dot(rbf_kernel(clf.support_vectors_, clf.support_vectors_, gamma=clf.gamma)).dot(clf.dual_coef_.T)  \n",
    "\n",
    "train_df = pd.concat([df[df[\"digit\"]!=0].sample((df[\"digit\"]==0).sum()), df[df[\"digit\"]==0]])\n",
    "for log10c in log10cs:\n",
    "    c = pow(10, log10c)\n",
    "    clf = SVC(C=c, kernel=\"rbf\", gamma=80)\n",
    "    clf.fit(train_df[[\"intensity\", \"symmetry\"]], train_df[\"digit\"]==0)\n",
    "    margins.append(1/rbf_margin(clf)[0])\n",
    "    print(c, margins[-1])\n",
    "\n",
    "plt.plot(log10cs, margins)\n",
    "plt.xlabel(\"log10c\")\n",
    "plt.ylabel(\"margin\")"
   ]
  },
  {
   "cell_type": "markdown",
   "metadata": {},
   "source": [
    "**15.** Following Question 14, when fixing $C = 0.1$, plot $E_{out}$ versus $log_{10}\\gamma \\in \\{0; 1; 2; 3; 4\\} $. \n",
    "\n",
    "Describe your findings."
   ]
  },
  {
   "cell_type": "code",
   "execution_count": 4,
   "metadata": {},
   "outputs": [
    {
     "name": "stdout",
     "output_type": "stream",
     "text": [
      "1 0.8943903442600466\n",
      "10 0.9022082018927445\n",
      "100 0.9039912220545878\n",
      "1000 0.8362364559045399\n",
      "10000 0.8362364559045399\n"
     ]
    },
    {
     "data": {
      "text/plain": [
       "<matplotlib.text.Text at 0x7f28c1a106d8>"
      ]
     },
     "execution_count": 4,
     "metadata": {},
     "output_type": "execute_result"
    },
    {
     "data": {
      "image/png": "[encoded data removed]",
      "text/plain": [
       "<matplotlib.figure.Figure at 0x7f28c1a7d198>"
      ]
     },
     "metadata": {},
     "output_type": "display_data"
    }
   ],
   "source": [
    "log10gammas = [0,1,2,3,4]\n",
    "eouts = []\n",
    "\n",
    "# train_df = pd.concat([df[df[\"digit\"]!=0].sample((df[\"digit\"]==0).sum()), df[df[\"digit\"]==0]])\n",
    "# test_df = pd.concat([df2[df2[\"digit\"]!=0].sample((df2[\"digit\"]==0).sum()), df2[df2[\"digit\"]==0]])\n",
    "\n",
    "train_df = df\n",
    "test_df = df\n",
    "\n",
    "for log10gamma in log10gammas:\n",
    "    gamma = pow(10, log10gamma)\n",
    "    clf = SVC(C=0.1, kernel=\"rbf\", gamma=gamma)\n",
    "    clf.fit(train_df[[\"intensity\", \"symmetry\"]], train_df[\"digit\"]==0)\n",
    "    eouts.append(clf.score(test_df[[\"intensity\", \"symmetry\"]], test_df[\"digit\"]==0))\n",
    "    print(gamma, eouts[-1])\n",
    "\n",
    "plt.plot(log10gammas, eouts)\n",
    "plt.xlabel(\"log10gamma\")\n",
    "plt.ylabel(\"eout\")"
   ]
  },
  {
   "cell_type": "markdown",
   "metadata": {},
   "source": [
    "**16.** Following Question 14 and consider a validation procedure that randomly samples 1000 examples from the training set for validation and leaves the other examples for training $g_{svm}^{−}$ . \n",
    "\n",
    "Fix $C = 0.1$ and use the validation procedure to choose the best $log_{10}\\gamma \\in \\{−1; 0; 1; 2; 3\\}$ according to Eval. \n",
    "\n",
    "If there is a tie of $E_{val}$, choose the smallest $\\gamma$. Repeat the procedure 100 times. Plot a histogram for the number of times each $log_{10}\\gamma$ is selected."
   ]
  },
  {
   "cell_type": "code",
   "execution_count": 5,
   "metadata": {},
   "outputs": [
    {
     "data": {
      "text/plain": [
       "<Container object of 5 artists>"
      ]
     },
     "execution_count": 5,
     "metadata": {},
     "output_type": "execute_result"
    },
    {
     "data": {
      "image/png": "[encoded data removed]",
      "text/plain": [
       "<matplotlib.figure.Figure at 0x7f28c1923160>"
      ]
     },
     "metadata": {},
     "output_type": "display_data"
    }
   ],
   "source": [
    "log10gammas = [-1,0,1,2,3]\n",
    "best_log10gammas = []\n",
    "\n",
    "from sklearn.model_selection import train_test_split\n",
    "\n",
    "for i in range(100):\n",
    "    train_df, val_df = train_test_split(df, test_size=1000)\n",
    "    best_score = []\n",
    "    for log10gamma in log10gammas:\n",
    "        gamma = pow(10, log10gamma)\n",
    "        clf = SVC(C=0.1, kernel=\"rbf\", gamma=gamma)\n",
    "        clf.fit(train_df[[\"intensity\", \"symmetry\"]], train_df[\"digit\"]==0)\n",
    "        val_score = clf.score(val_df[[\"intensity\", \"symmetry\"]], val_df[\"digit\"]==0)\n",
    "        best_score.append(val_score)\n",
    "#         print(gamma, val_score, end=\"\\t\\t\")\n",
    "#     print()\n",
    "    best_log10gammas.append(log10gammas[best_score.index(max(best_score))])\n",
    "\n",
    "cnt_dict = pd.value_counts(best_log10gammas).to_dict()\n",
    "result = np.array([[val, cnt_dict.get(val, 0)] for val in log10gammas])\n",
    "plt.bar(result[:, 0], result[:, 1])"
   ]
  }
 ],
 "metadata": {
  "kernelspec": {
   "display_name": "Python 3",
   "language": "python",
   "name": "python3"
  },
  "language_info": {
   "codemirror_mode": {
    "name": "ipython",
    "version": 3
   },
   "file_extension": ".py",
   "mimetype": "text/x-python",
   "name": "python",
   "nbconvert_exporter": "python",
   "pygments_lexer": "ipython3",
   "version": "3.6.1"
  }
 },
 "nbformat": 4,
 "nbformat_minor": 2
}
